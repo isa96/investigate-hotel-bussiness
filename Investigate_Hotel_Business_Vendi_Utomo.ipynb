{
  "nbformat": 4,
  "nbformat_minor": 0,
  "metadata": {
    "colab": {
      "provenance": [],
      "toc_visible": true,
      "authorship_tag": "ABX9TyNyPHu8t8HRtT98MxtZ+ftj",
      "include_colab_link": true
    },
    "kernelspec": {
      "name": "python3",
      "display_name": "Python 3"
    },
    "language_info": {
      "name": "python"
    }
  },
  "cells": [
    {
      "cell_type": "markdown",
      "metadata": {
        "id": "view-in-github",
        "colab_type": "text"
      },
      "source": [
        "<a href=\"https://colab.research.google.com/github/vendiutomo/Investigate-Hotel-Business-using-Data-Visualization/blob/main/Investigate_Hotel_Business_Vendi_Utomo.ipynb\" target=\"_parent\"><img src=\"https://colab.research.google.com/assets/colab-badge.svg\" alt=\"Open In Colab\"/></a>"
      ]
    },
    {
      "cell_type": "code",
      "execution_count": null,
      "metadata": {
        "id": "wxMmG4kUX-Tk"
      },
      "outputs": [],
      "source": [
        "#IMPORT LIBRARY\n",
        "import pandas as pd\n",
        "import numpy as np\n",
        "import matplotlib.pyplot as plt\n",
        "import scipy.stats as st\n",
        "import seaborn as sns\n",
        "from matplotlib import rcParams\n",
        "\n",
        "rcParams[\"figure.figsize\"]= (10,7)\n",
        "rcParams[\"lines.linewidth\"]= 2.5\n",
        "rcParams[\"xtick.labelsize\"]= \"x-large\"\n",
        "rcParams[\"ytick.labelsize\"]= \"x-large\""
      ]
    },
    {
      "cell_type": "markdown",
      "source": [
        "# Data Preprocessing"
      ],
      "metadata": {
        "id": "4ls_Sz70YFw5"
      }
    },
    {
      "cell_type": "markdown",
      "source": [
        "## Dataset"
      ],
      "metadata": {
        "id": "Eyz-TA67d6b5"
      }
    },
    {
      "cell_type": "code",
      "source": [
        "df = pd.read_csv('hotel_bookings_data.csv')\n",
        "df.sample(5)"
      ],
      "metadata": {
        "colab": {
          "base_uri": "https://localhost:8080/",
          "height": 386
        },
        "id": "0ngrgGeuYR5B",
        "outputId": "7f8f9813-2282-4bcc-a32c-e7da9f54a3e1"
      },
      "execution_count": null,
      "outputs": [
        {
          "output_type": "execute_result",
          "data": {
            "text/plain": [
              "               hotel  is_canceled  lead_time  arrival_date_year  \\\n",
              "96219     City Hotel            0          5               2018   \n",
              "103352    City Hotel            0          3               2018   \n",
              "37913   Resort Hotel            0        310               2019   \n",
              "40933     City Hotel            0          3               2017   \n",
              "104039    City Hotel            0         50               2019   \n",
              "\n",
              "       arrival_date_month  arrival_date_week_number  \\\n",
              "96219             October                        36   \n",
              "103352           February                        52   \n",
              "37913              August                        25   \n",
              "40933             October                        33   \n",
              "104039              March                         1   \n",
              "\n",
              "        arrival_date_day_of_month  stays_in_weekend_nights  \\\n",
              "96219                          29                        1   \n",
              "103352                         19                        1   \n",
              "37913                          22                        3   \n",
              "40933                           9                        2   \n",
              "104039                          3                        0   \n",
              "\n",
              "        stays_in_weekdays_nights  adults  ...  booking_changes  deposit_type  \\\n",
              "96219                          0       2  ...                0    No Deposit   \n",
              "103352                         1       2  ...                0    No Deposit   \n",
              "37913                          8       2  ...                0    No Deposit   \n",
              "40933                          1       2  ...                0    No Deposit   \n",
              "104039                         1       2  ...                0    No Deposit   \n",
              "\n",
              "        agent company days_in_waiting_list customer_type    adr  \\\n",
              "96219   138.0     NaN                    0      Personal   75.0   \n",
              "103352    9.0     NaN                    0      Personal   79.5   \n",
              "37913    40.0     NaN                    0      Personal  103.7   \n",
              "40933     3.0     NaN                    0      Personal    0.0   \n",
              "104039   14.0     NaN                    0      Personal   79.2   \n",
              "\n",
              "        required_car_parking_spaces  total_of_special_requests  \\\n",
              "96219                             0                          0   \n",
              "103352                            0                          2   \n",
              "37913                             0                          0   \n",
              "40933                             0                          2   \n",
              "104039                            0                          0   \n",
              "\n",
              "        reservation_status  \n",
              "96219            Check-Out  \n",
              "103352           Check-Out  \n",
              "37913            Check-Out  \n",
              "40933            Check-Out  \n",
              "104039           Check-Out  \n",
              "\n",
              "[5 rows x 29 columns]"
            ],
            "text/html": [
              "\n",
              "  <div id=\"df-9724ecfb-b623-4b3d-9af5-d7961afa2e6e\">\n",
              "    <div class=\"colab-df-container\">\n",
              "      <div>\n",
              "<style scoped>\n",
              "    .dataframe tbody tr th:only-of-type {\n",
              "        vertical-align: middle;\n",
              "    }\n",
              "\n",
              "    .dataframe tbody tr th {\n",
              "        vertical-align: top;\n",
              "    }\n",
              "\n",
              "    .dataframe thead th {\n",
              "        text-align: right;\n",
              "    }\n",
              "</style>\n",
              "<table border=\"1\" class=\"dataframe\">\n",
              "  <thead>\n",
              "    <tr style=\"text-align: right;\">\n",
              "      <th></th>\n",
              "      <th>hotel</th>\n",
              "      <th>is_canceled</th>\n",
              "      <th>lead_time</th>\n",
              "      <th>arrival_date_year</th>\n",
              "      <th>arrival_date_month</th>\n",
              "      <th>arrival_date_week_number</th>\n",
              "      <th>arrival_date_day_of_month</th>\n",
              "      <th>stays_in_weekend_nights</th>\n",
              "      <th>stays_in_weekdays_nights</th>\n",
              "      <th>adults</th>\n",
              "      <th>...</th>\n",
              "      <th>booking_changes</th>\n",
              "      <th>deposit_type</th>\n",
              "      <th>agent</th>\n",
              "      <th>company</th>\n",
              "      <th>days_in_waiting_list</th>\n",
              "      <th>customer_type</th>\n",
              "      <th>adr</th>\n",
              "      <th>required_car_parking_spaces</th>\n",
              "      <th>total_of_special_requests</th>\n",
              "      <th>reservation_status</th>\n",
              "    </tr>\n",
              "  </thead>\n",
              "  <tbody>\n",
              "    <tr>\n",
              "      <th>96219</th>\n",
              "      <td>City Hotel</td>\n",
              "      <td>0</td>\n",
              "      <td>5</td>\n",
              "      <td>2018</td>\n",
              "      <td>October</td>\n",
              "      <td>36</td>\n",
              "      <td>29</td>\n",
              "      <td>1</td>\n",
              "      <td>0</td>\n",
              "      <td>2</td>\n",
              "      <td>...</td>\n",
              "      <td>0</td>\n",
              "      <td>No Deposit</td>\n",
              "      <td>138.0</td>\n",
              "      <td>NaN</td>\n",
              "      <td>0</td>\n",
              "      <td>Personal</td>\n",
              "      <td>75.0</td>\n",
              "      <td>0</td>\n",
              "      <td>0</td>\n",
              "      <td>Check-Out</td>\n",
              "    </tr>\n",
              "    <tr>\n",
              "      <th>103352</th>\n",
              "      <td>City Hotel</td>\n",
              "      <td>0</td>\n",
              "      <td>3</td>\n",
              "      <td>2018</td>\n",
              "      <td>February</td>\n",
              "      <td>52</td>\n",
              "      <td>19</td>\n",
              "      <td>1</td>\n",
              "      <td>1</td>\n",
              "      <td>2</td>\n",
              "      <td>...</td>\n",
              "      <td>0</td>\n",
              "      <td>No Deposit</td>\n",
              "      <td>9.0</td>\n",
              "      <td>NaN</td>\n",
              "      <td>0</td>\n",
              "      <td>Personal</td>\n",
              "      <td>79.5</td>\n",
              "      <td>0</td>\n",
              "      <td>2</td>\n",
              "      <td>Check-Out</td>\n",
              "    </tr>\n",
              "    <tr>\n",
              "      <th>37913</th>\n",
              "      <td>Resort Hotel</td>\n",
              "      <td>0</td>\n",
              "      <td>310</td>\n",
              "      <td>2019</td>\n",
              "      <td>August</td>\n",
              "      <td>25</td>\n",
              "      <td>22</td>\n",
              "      <td>3</td>\n",
              "      <td>8</td>\n",
              "      <td>2</td>\n",
              "      <td>...</td>\n",
              "      <td>0</td>\n",
              "      <td>No Deposit</td>\n",
              "      <td>40.0</td>\n",
              "      <td>NaN</td>\n",
              "      <td>0</td>\n",
              "      <td>Personal</td>\n",
              "      <td>103.7</td>\n",
              "      <td>0</td>\n",
              "      <td>0</td>\n",
              "      <td>Check-Out</td>\n",
              "    </tr>\n",
              "    <tr>\n",
              "      <th>40933</th>\n",
              "      <td>City Hotel</td>\n",
              "      <td>0</td>\n",
              "      <td>3</td>\n",
              "      <td>2017</td>\n",
              "      <td>October</td>\n",
              "      <td>33</td>\n",
              "      <td>9</td>\n",
              "      <td>2</td>\n",
              "      <td>1</td>\n",
              "      <td>2</td>\n",
              "      <td>...</td>\n",
              "      <td>0</td>\n",
              "      <td>No Deposit</td>\n",
              "      <td>3.0</td>\n",
              "      <td>NaN</td>\n",
              "      <td>0</td>\n",
              "      <td>Personal</td>\n",
              "      <td>0.0</td>\n",
              "      <td>0</td>\n",
              "      <td>2</td>\n",
              "      <td>Check-Out</td>\n",
              "    </tr>\n",
              "    <tr>\n",
              "      <th>104039</th>\n",
              "      <td>City Hotel</td>\n",
              "      <td>0</td>\n",
              "      <td>50</td>\n",
              "      <td>2019</td>\n",
              "      <td>March</td>\n",
              "      <td>1</td>\n",
              "      <td>3</td>\n",
              "      <td>0</td>\n",
              "      <td>1</td>\n",
              "      <td>2</td>\n",
              "      <td>...</td>\n",
              "      <td>0</td>\n",
              "      <td>No Deposit</td>\n",
              "      <td>14.0</td>\n",
              "      <td>NaN</td>\n",
              "      <td>0</td>\n",
              "      <td>Personal</td>\n",
              "      <td>79.2</td>\n",
              "      <td>0</td>\n",
              "      <td>0</td>\n",
              "      <td>Check-Out</td>\n",
              "    </tr>\n",
              "  </tbody>\n",
              "</table>\n",
              "<p>5 rows × 29 columns</p>\n",
              "</div>\n",
              "      <button class=\"colab-df-convert\" onclick=\"convertToInteractive('df-9724ecfb-b623-4b3d-9af5-d7961afa2e6e')\"\n",
              "              title=\"Convert this dataframe to an interactive table.\"\n",
              "              style=\"display:none;\">\n",
              "        \n",
              "  <svg xmlns=\"http://www.w3.org/2000/svg\" height=\"24px\"viewBox=\"0 0 24 24\"\n",
              "       width=\"24px\">\n",
              "    <path d=\"M0 0h24v24H0V0z\" fill=\"none\"/>\n",
              "    <path d=\"M18.56 5.44l.94 2.06.94-2.06 2.06-.94-2.06-.94-.94-2.06-.94 2.06-2.06.94zm-11 1L8.5 8.5l.94-2.06 2.06-.94-2.06-.94L8.5 2.5l-.94 2.06-2.06.94zm10 10l.94 2.06.94-2.06 2.06-.94-2.06-.94-.94-2.06-.94 2.06-2.06.94z\"/><path d=\"M17.41 7.96l-1.37-1.37c-.4-.4-.92-.59-1.43-.59-.52 0-1.04.2-1.43.59L10.3 9.45l-7.72 7.72c-.78.78-.78 2.05 0 2.83L4 21.41c.39.39.9.59 1.41.59.51 0 1.02-.2 1.41-.59l7.78-7.78 2.81-2.81c.8-.78.8-2.07 0-2.86zM5.41 20L4 18.59l7.72-7.72 1.47 1.35L5.41 20z\"/>\n",
              "  </svg>\n",
              "      </button>\n",
              "      \n",
              "  <style>\n",
              "    .colab-df-container {\n",
              "      display:flex;\n",
              "      flex-wrap:wrap;\n",
              "      gap: 12px;\n",
              "    }\n",
              "\n",
              "    .colab-df-convert {\n",
              "      background-color: #E8F0FE;\n",
              "      border: none;\n",
              "      border-radius: 50%;\n",
              "      cursor: pointer;\n",
              "      display: none;\n",
              "      fill: #1967D2;\n",
              "      height: 32px;\n",
              "      padding: 0 0 0 0;\n",
              "      width: 32px;\n",
              "    }\n",
              "\n",
              "    .colab-df-convert:hover {\n",
              "      background-color: #E2EBFA;\n",
              "      box-shadow: 0px 1px 2px rgba(60, 64, 67, 0.3), 0px 1px 3px 1px rgba(60, 64, 67, 0.15);\n",
              "      fill: #174EA6;\n",
              "    }\n",
              "\n",
              "    [theme=dark] .colab-df-convert {\n",
              "      background-color: #3B4455;\n",
              "      fill: #D2E3FC;\n",
              "    }\n",
              "\n",
              "    [theme=dark] .colab-df-convert:hover {\n",
              "      background-color: #434B5C;\n",
              "      box-shadow: 0px 1px 3px 1px rgba(0, 0, 0, 0.15);\n",
              "      filter: drop-shadow(0px 1px 2px rgba(0, 0, 0, 0.3));\n",
              "      fill: #FFFFFF;\n",
              "    }\n",
              "  </style>\n",
              "\n",
              "      <script>\n",
              "        const buttonEl =\n",
              "          document.querySelector('#df-9724ecfb-b623-4b3d-9af5-d7961afa2e6e button.colab-df-convert');\n",
              "        buttonEl.style.display =\n",
              "          google.colab.kernel.accessAllowed ? 'block' : 'none';\n",
              "\n",
              "        async function convertToInteractive(key) {\n",
              "          const element = document.querySelector('#df-9724ecfb-b623-4b3d-9af5-d7961afa2e6e');\n",
              "          const dataTable =\n",
              "            await google.colab.kernel.invokeFunction('convertToInteractive',\n",
              "                                                     [key], {});\n",
              "          if (!dataTable) return;\n",
              "\n",
              "          const docLinkHtml = 'Like what you see? Visit the ' +\n",
              "            '<a target=\"_blank\" href=https://colab.research.google.com/notebooks/data_table.ipynb>data table notebook</a>'\n",
              "            + ' to learn more about interactive tables.';\n",
              "          element.innerHTML = '';\n",
              "          dataTable['output_type'] = 'display_data';\n",
              "          await google.colab.output.renderOutput(dataTable, element);\n",
              "          const docLink = document.createElement('div');\n",
              "          docLink.innerHTML = docLinkHtml;\n",
              "          element.appendChild(docLink);\n",
              "        }\n",
              "      </script>\n",
              "    </div>\n",
              "  </div>\n",
              "  "
            ]
          },
          "metadata": {},
          "execution_count": 178
        }
      ]
    },
    {
      "cell_type": "code",
      "source": [
        "df.info()"
      ],
      "metadata": {
        "colab": {
          "base_uri": "https://localhost:8080/"
        },
        "id": "k1j7m_1uYxOE",
        "outputId": "5069384f-b2d0-4d95-c19b-6102d68c1a94"
      },
      "execution_count": null,
      "outputs": [
        {
          "output_type": "stream",
          "name": "stdout",
          "text": [
            "<class 'pandas.core.frame.DataFrame'>\n",
            "RangeIndex: 119390 entries, 0 to 119389\n",
            "Data columns (total 29 columns):\n",
            " #   Column                          Non-Null Count   Dtype  \n",
            "---  ------                          --------------   -----  \n",
            " 0   hotel                           119390 non-null  object \n",
            " 1   is_canceled                     119390 non-null  int64  \n",
            " 2   lead_time                       119390 non-null  int64  \n",
            " 3   arrival_date_year               119390 non-null  int64  \n",
            " 4   arrival_date_month              119390 non-null  object \n",
            " 5   arrival_date_week_number        119390 non-null  int64  \n",
            " 6   arrival_date_day_of_month       119390 non-null  int64  \n",
            " 7   stays_in_weekend_nights         119390 non-null  int64  \n",
            " 8   stays_in_weekdays_nights        119390 non-null  int64  \n",
            " 9   adults                          119390 non-null  int64  \n",
            " 10  children                        119386 non-null  float64\n",
            " 11  babies                          119390 non-null  int64  \n",
            " 12  meal                            119390 non-null  object \n",
            " 13  city                            118902 non-null  object \n",
            " 14  market_segment                  119390 non-null  object \n",
            " 15  distribution_channel            119390 non-null  object \n",
            " 16  is_repeated_guest               119390 non-null  int64  \n",
            " 17  previous_cancellations          119390 non-null  int64  \n",
            " 18  previous_bookings_not_canceled  119390 non-null  int64  \n",
            " 19  booking_changes                 119390 non-null  int64  \n",
            " 20  deposit_type                    119390 non-null  object \n",
            " 21  agent                           103050 non-null  float64\n",
            " 22  company                         6797 non-null    float64\n",
            " 23  days_in_waiting_list            119390 non-null  int64  \n",
            " 24  customer_type                   119390 non-null  object \n",
            " 25  adr                             119390 non-null  float64\n",
            " 26  required_car_parking_spaces     119390 non-null  int64  \n",
            " 27  total_of_special_requests       119390 non-null  int64  \n",
            " 28  reservation_status              119390 non-null  object \n",
            "dtypes: float64(4), int64(16), object(9)\n",
            "memory usage: 26.4+ MB\n"
          ]
        }
      ]
    },
    {
      "cell_type": "markdown",
      "source": [
        "## Duplicated Data"
      ],
      "metadata": {
        "id": "RdgRvW9Id_TY"
      }
    },
    {
      "cell_type": "code",
      "source": [
        "df.duplicated().sum()"
      ],
      "metadata": {
        "colab": {
          "base_uri": "https://localhost:8080/"
        },
        "id": "SnDtwOFOY7uK",
        "outputId": "c9fa9306-2e18-440d-8ad9-61897d630ee5"
      },
      "execution_count": null,
      "outputs": [
        {
          "output_type": "execute_result",
          "data": {
            "text/plain": [
              "33261"
            ]
          },
          "metadata": {},
          "execution_count": 180
        }
      ]
    },
    {
      "cell_type": "code",
      "source": [
        "df = df.drop_duplicates()"
      ],
      "metadata": {
        "id": "nVxGe7ZBZ0Zv"
      },
      "execution_count": null,
      "outputs": []
    },
    {
      "cell_type": "code",
      "source": [
        "df.duplicated().sum()"
      ],
      "metadata": {
        "colab": {
          "base_uri": "https://localhost:8080/"
        },
        "id": "lP1HtKP_YyP7",
        "outputId": "eee49347-156f-4927-e7ef-cab5496a5540"
      },
      "execution_count": null,
      "outputs": [
        {
          "output_type": "execute_result",
          "data": {
            "text/plain": [
              "0"
            ]
          },
          "metadata": {},
          "execution_count": 182
        }
      ]
    },
    {
      "cell_type": "markdown",
      "source": [
        "## Missing Values"
      ],
      "metadata": {
        "id": "-Ye3w1mOeDhX"
      }
    },
    {
      "cell_type": "code",
      "source": [
        "# mengisi baris kosong pada kolom children dengan nilai minimum (0) - walaupun jumlahnya kecil, dianggap yang tidak mengisi dikarenakan tidak memiliki anak\n",
        "df['children'].fillna(0, inplace= True)"
      ],
      "metadata": {
        "id": "TviAG9-3ZSj6"
      },
      "execution_count": null,
      "outputs": []
    },
    {
      "cell_type": "code",
      "source": [
        "# menggisi baris kosong pada kolom city dengan nilai yang paling sering muncul\n",
        "df['city'].fillna(df['city'].mode()[0], inplace=True)"
      ],
      "metadata": {
        "id": "GXNn8cAEalsA"
      },
      "execution_count": null,
      "outputs": []
    },
    {
      "cell_type": "code",
      "source": [
        "# mengisi baris kosong pada kolom agent dengan nilai 0\n",
        "df['agent'].fillna(0, inplace= True)"
      ],
      "metadata": {
        "id": "8oHBpDiTbP5P"
      },
      "execution_count": null,
      "outputs": []
    },
    {
      "cell_type": "code",
      "source": [
        "# baris kosong pada kolom company dengan nilai 0\n",
        "df['company'].fillna(0, inplace= True)"
      ],
      "metadata": {
        "id": "V0qbfzCcbTSl"
      },
      "execution_count": null,
      "outputs": []
    },
    {
      "cell_type": "code",
      "source": [
        "df.isna().sum()"
      ],
      "metadata": {
        "id": "GSd7qCm8eYZE",
        "colab": {
          "base_uri": "https://localhost:8080/"
        },
        "outputId": "4d5a597e-dbbd-4262-9f56-8870751750d0"
      },
      "execution_count": null,
      "outputs": [
        {
          "output_type": "execute_result",
          "data": {
            "text/plain": [
              "hotel                             0\n",
              "is_canceled                       0\n",
              "lead_time                         0\n",
              "arrival_date_year                 0\n",
              "arrival_date_month                0\n",
              "arrival_date_week_number          0\n",
              "arrival_date_day_of_month         0\n",
              "stays_in_weekend_nights           0\n",
              "stays_in_weekdays_nights          0\n",
              "adults                            0\n",
              "children                          0\n",
              "babies                            0\n",
              "meal                              0\n",
              "city                              0\n",
              "market_segment                    0\n",
              "distribution_channel              0\n",
              "is_repeated_guest                 0\n",
              "previous_cancellations            0\n",
              "previous_bookings_not_canceled    0\n",
              "booking_changes                   0\n",
              "deposit_type                      0\n",
              "agent                             0\n",
              "company                           0\n",
              "days_in_waiting_list              0\n",
              "customer_type                     0\n",
              "adr                               0\n",
              "required_car_parking_spaces       0\n",
              "total_of_special_requests         0\n",
              "reservation_status                0\n",
              "dtype: int64"
            ]
          },
          "metadata": {},
          "execution_count": 187
        }
      ]
    },
    {
      "cell_type": "markdown",
      "source": [
        "## Invalid Data Value"
      ],
      "metadata": {
        "id": "fkwM1iSDe2-Q"
      }
    },
    {
      "cell_type": "code",
      "source": [
        "# memeriksa nilai kolom meal\n",
        "df['meal'].value_counts()"
      ],
      "metadata": {
        "id": "sIkY94v_e56y",
        "colab": {
          "base_uri": "https://localhost:8080/"
        },
        "outputId": "bef41a9d-3bc0-49e4-a5f7-557d609aadd4"
      },
      "execution_count": null,
      "outputs": [
        {
          "output_type": "execute_result",
          "data": {
            "text/plain": [
              "Breakfast     67088\n",
              "No Meal        9442\n",
              "Dinner         8798\n",
              "Undefined       454\n",
              "Full Board      347\n",
              "Name: meal, dtype: int64"
            ]
          },
          "metadata": {},
          "execution_count": 188
        }
      ]
    },
    {
      "cell_type": "code",
      "source": [
        "# mengganti nilai \"Undefined\" pada kolom \"meal\" menjadi \"No Meal\"\n",
        "df['meal'].replace('Undefined','No Meal', inplace=True)"
      ],
      "metadata": {
        "id": "a5MYEbdJfWtL"
      },
      "execution_count": null,
      "outputs": []
    },
    {
      "cell_type": "markdown",
      "source": [
        "## Feature Selection"
      ],
      "metadata": {
        "id": "B1dcXhP2e7Cs"
      }
    },
    {
      "cell_type": "code",
      "source": [
        "# membuat kolom \"guest_number\" yang berisikan total pengunjung dalam 1 pemesanan\n",
        "df['guest_number'] = df['adults']+df['children']+df['babies']"
      ],
      "metadata": {
        "id": "4J0m1_lKfCzf"
      },
      "execution_count": null,
      "outputs": []
    },
    {
      "cell_type": "code",
      "source": [
        "# memeriksa jumlah baris yang memiliki nilai 0 pada kolom \"guest_number\"\n",
        "df[df['guest_number'] == 0].shape[0]"
      ],
      "metadata": {
        "colab": {
          "base_uri": "https://localhost:8080/"
        },
        "id": "M6YNtwNJhrrv",
        "outputId": "3ff17730-bc1c-4392-f7d3-04f986627609"
      },
      "execution_count": null,
      "outputs": [
        {
          "output_type": "execute_result",
          "data": {
            "text/plain": [
              "165"
            ]
          },
          "metadata": {},
          "execution_count": 191
        }
      ]
    },
    {
      "cell_type": "code",
      "source": [
        "# menghapus baris yang memiliki nilai 0 pada kolom \"guest_number\"\n",
        "df = df.drop(df[df['guest_number'] == 0].index)"
      ],
      "metadata": {
        "id": "iqd8LBGriMLT"
      },
      "execution_count": null,
      "outputs": []
    },
    {
      "cell_type": "code",
      "source": [
        "df[df['guest_number'] == 0].shape[0]"
      ],
      "metadata": {
        "colab": {
          "base_uri": "https://localhost:8080/"
        },
        "id": "w9qj46otiyTR",
        "outputId": "51b38191-c056-40b6-d83f-2c7520fc8037"
      },
      "execution_count": null,
      "outputs": [
        {
          "output_type": "execute_result",
          "data": {
            "text/plain": [
              "0"
            ]
          },
          "metadata": {},
          "execution_count": 193
        }
      ]
    },
    {
      "cell_type": "code",
      "source": [
        "# menghapus kolom yang tidak diperlukan\n",
        "df.drop(['adults','children','babies'], axis=1, inplace=True)"
      ],
      "metadata": {
        "id": "iP1pxRIBgjCT"
      },
      "execution_count": null,
      "outputs": []
    },
    {
      "cell_type": "markdown",
      "source": [
        "# Monthly Hotel Booking Analysis Based on Hotel Type"
      ],
      "metadata": {
        "id": "MW8-nbpkk3Ze"
      }
    },
    {
      "cell_type": "markdown",
      "source": [
        "## Monthly Total Customer"
      ],
      "metadata": {
        "id": "HgV70dP1oQh6"
      }
    },
    {
      "cell_type": "code",
      "source": [
        "# copy data\n",
        "dfcopy = df.copy()"
      ],
      "metadata": {
        "id": "bV6V_lD1wnkC"
      },
      "execution_count": null,
      "outputs": []
    },
    {
      "cell_type": "code",
      "source": [
        "# melakukan agregasi data untuk menghitung jumlah booking perbulan berdasarkan jenis hotel\n",
        "df1 = dfcopy.groupby(['hotel', 'arrival_date_month'])['arrival_date_year'].agg(['nunique', 'count']).reset_index()\n",
        "df1.columns = ['hotel_type', 'arrival_month', 'unique_year', 'num_booking'] # mengubah nama kolom tabel\n",
        "\n",
        "df1"
      ],
      "metadata": {
        "colab": {
          "base_uri": "https://localhost:8080/",
          "height": 801
        },
        "id": "FjSdat6mvkYz",
        "outputId": "efa05805-70a3-4153-b2ca-1bb99752cfc6"
      },
      "execution_count": null,
      "outputs": [
        {
          "output_type": "execute_result",
          "data": {
            "text/plain": [
              "      hotel_type arrival_month  unique_year  num_booking\n",
              "0     City Hotel         April            2         3546\n",
              "1     City Hotel        August            2         4919\n",
              "2     City Hotel      December            2         4048\n",
              "3     City Hotel      February            2         2967\n",
              "4     City Hotel       January            2         2875\n",
              "5     City Hotel          July            2         5334\n",
              "6     City Hotel          June            2         5027\n",
              "7     City Hotel         March            2         2692\n",
              "8     City Hotel           May            2         4798\n",
              "9     City Hotel      November            2         4055\n",
              "10    City Hotel       October            3         6488\n",
              "11    City Hotel     September            3         5673\n",
              "12  Resort Hotel         April            2         2474\n",
              "13  Resort Hotel        August            2         2729\n",
              "14  Resort Hotel      December            2         2658\n",
              "15  Resort Hotel      February            2         2096\n",
              "16  Resort Hotel       January            2         2026\n",
              "17  Resort Hotel          July            2         2897\n",
              "18  Resort Hotel          June            2         2776\n",
              "19  Resort Hotel         March            2         1932\n",
              "20  Resort Hotel           May            2         2613\n",
              "21  Resort Hotel      November            2         2394\n",
              "22  Resort Hotel       October            3         4647\n",
              "23  Resort Hotel     September            3         4300"
            ],
            "text/html": [
              "\n",
              "  <div id=\"df-1f260c8c-7f78-441e-98d2-e45124465e0c\">\n",
              "    <div class=\"colab-df-container\">\n",
              "      <div>\n",
              "<style scoped>\n",
              "    .dataframe tbody tr th:only-of-type {\n",
              "        vertical-align: middle;\n",
              "    }\n",
              "\n",
              "    .dataframe tbody tr th {\n",
              "        vertical-align: top;\n",
              "    }\n",
              "\n",
              "    .dataframe thead th {\n",
              "        text-align: right;\n",
              "    }\n",
              "</style>\n",
              "<table border=\"1\" class=\"dataframe\">\n",
              "  <thead>\n",
              "    <tr style=\"text-align: right;\">\n",
              "      <th></th>\n",
              "      <th>hotel_type</th>\n",
              "      <th>arrival_month</th>\n",
              "      <th>unique_year</th>\n",
              "      <th>num_booking</th>\n",
              "    </tr>\n",
              "  </thead>\n",
              "  <tbody>\n",
              "    <tr>\n",
              "      <th>0</th>\n",
              "      <td>City Hotel</td>\n",
              "      <td>April</td>\n",
              "      <td>2</td>\n",
              "      <td>3546</td>\n",
              "    </tr>\n",
              "    <tr>\n",
              "      <th>1</th>\n",
              "      <td>City Hotel</td>\n",
              "      <td>August</td>\n",
              "      <td>2</td>\n",
              "      <td>4919</td>\n",
              "    </tr>\n",
              "    <tr>\n",
              "      <th>2</th>\n",
              "      <td>City Hotel</td>\n",
              "      <td>December</td>\n",
              "      <td>2</td>\n",
              "      <td>4048</td>\n",
              "    </tr>\n",
              "    <tr>\n",
              "      <th>3</th>\n",
              "      <td>City Hotel</td>\n",
              "      <td>February</td>\n",
              "      <td>2</td>\n",
              "      <td>2967</td>\n",
              "    </tr>\n",
              "    <tr>\n",
              "      <th>4</th>\n",
              "      <td>City Hotel</td>\n",
              "      <td>January</td>\n",
              "      <td>2</td>\n",
              "      <td>2875</td>\n",
              "    </tr>\n",
              "    <tr>\n",
              "      <th>5</th>\n",
              "      <td>City Hotel</td>\n",
              "      <td>July</td>\n",
              "      <td>2</td>\n",
              "      <td>5334</td>\n",
              "    </tr>\n",
              "    <tr>\n",
              "      <th>6</th>\n",
              "      <td>City Hotel</td>\n",
              "      <td>June</td>\n",
              "      <td>2</td>\n",
              "      <td>5027</td>\n",
              "    </tr>\n",
              "    <tr>\n",
              "      <th>7</th>\n",
              "      <td>City Hotel</td>\n",
              "      <td>March</td>\n",
              "      <td>2</td>\n",
              "      <td>2692</td>\n",
              "    </tr>\n",
              "    <tr>\n",
              "      <th>8</th>\n",
              "      <td>City Hotel</td>\n",
              "      <td>May</td>\n",
              "      <td>2</td>\n",
              "      <td>4798</td>\n",
              "    </tr>\n",
              "    <tr>\n",
              "      <th>9</th>\n",
              "      <td>City Hotel</td>\n",
              "      <td>November</td>\n",
              "      <td>2</td>\n",
              "      <td>4055</td>\n",
              "    </tr>\n",
              "    <tr>\n",
              "      <th>10</th>\n",
              "      <td>City Hotel</td>\n",
              "      <td>October</td>\n",
              "      <td>3</td>\n",
              "      <td>6488</td>\n",
              "    </tr>\n",
              "    <tr>\n",
              "      <th>11</th>\n",
              "      <td>City Hotel</td>\n",
              "      <td>September</td>\n",
              "      <td>3</td>\n",
              "      <td>5673</td>\n",
              "    </tr>\n",
              "    <tr>\n",
              "      <th>12</th>\n",
              "      <td>Resort Hotel</td>\n",
              "      <td>April</td>\n",
              "      <td>2</td>\n",
              "      <td>2474</td>\n",
              "    </tr>\n",
              "    <tr>\n",
              "      <th>13</th>\n",
              "      <td>Resort Hotel</td>\n",
              "      <td>August</td>\n",
              "      <td>2</td>\n",
              "      <td>2729</td>\n",
              "    </tr>\n",
              "    <tr>\n",
              "      <th>14</th>\n",
              "      <td>Resort Hotel</td>\n",
              "      <td>December</td>\n",
              "      <td>2</td>\n",
              "      <td>2658</td>\n",
              "    </tr>\n",
              "    <tr>\n",
              "      <th>15</th>\n",
              "      <td>Resort Hotel</td>\n",
              "      <td>February</td>\n",
              "      <td>2</td>\n",
              "      <td>2096</td>\n",
              "    </tr>\n",
              "    <tr>\n",
              "      <th>16</th>\n",
              "      <td>Resort Hotel</td>\n",
              "      <td>January</td>\n",
              "      <td>2</td>\n",
              "      <td>2026</td>\n",
              "    </tr>\n",
              "    <tr>\n",
              "      <th>17</th>\n",
              "      <td>Resort Hotel</td>\n",
              "      <td>July</td>\n",
              "      <td>2</td>\n",
              "      <td>2897</td>\n",
              "    </tr>\n",
              "    <tr>\n",
              "      <th>18</th>\n",
              "      <td>Resort Hotel</td>\n",
              "      <td>June</td>\n",
              "      <td>2</td>\n",
              "      <td>2776</td>\n",
              "    </tr>\n",
              "    <tr>\n",
              "      <th>19</th>\n",
              "      <td>Resort Hotel</td>\n",
              "      <td>March</td>\n",
              "      <td>2</td>\n",
              "      <td>1932</td>\n",
              "    </tr>\n",
              "    <tr>\n",
              "      <th>20</th>\n",
              "      <td>Resort Hotel</td>\n",
              "      <td>May</td>\n",
              "      <td>2</td>\n",
              "      <td>2613</td>\n",
              "    </tr>\n",
              "    <tr>\n",
              "      <th>21</th>\n",
              "      <td>Resort Hotel</td>\n",
              "      <td>November</td>\n",
              "      <td>2</td>\n",
              "      <td>2394</td>\n",
              "    </tr>\n",
              "    <tr>\n",
              "      <th>22</th>\n",
              "      <td>Resort Hotel</td>\n",
              "      <td>October</td>\n",
              "      <td>3</td>\n",
              "      <td>4647</td>\n",
              "    </tr>\n",
              "    <tr>\n",
              "      <th>23</th>\n",
              "      <td>Resort Hotel</td>\n",
              "      <td>September</td>\n",
              "      <td>3</td>\n",
              "      <td>4300</td>\n",
              "    </tr>\n",
              "  </tbody>\n",
              "</table>\n",
              "</div>\n",
              "      <button class=\"colab-df-convert\" onclick=\"convertToInteractive('df-1f260c8c-7f78-441e-98d2-e45124465e0c')\"\n",
              "              title=\"Convert this dataframe to an interactive table.\"\n",
              "              style=\"display:none;\">\n",
              "        \n",
              "  <svg xmlns=\"http://www.w3.org/2000/svg\" height=\"24px\"viewBox=\"0 0 24 24\"\n",
              "       width=\"24px\">\n",
              "    <path d=\"M0 0h24v24H0V0z\" fill=\"none\"/>\n",
              "    <path d=\"M18.56 5.44l.94 2.06.94-2.06 2.06-.94-2.06-.94-.94-2.06-.94 2.06-2.06.94zm-11 1L8.5 8.5l.94-2.06 2.06-.94-2.06-.94L8.5 2.5l-.94 2.06-2.06.94zm10 10l.94 2.06.94-2.06 2.06-.94-2.06-.94-.94-2.06-.94 2.06-2.06.94z\"/><path d=\"M17.41 7.96l-1.37-1.37c-.4-.4-.92-.59-1.43-.59-.52 0-1.04.2-1.43.59L10.3 9.45l-7.72 7.72c-.78.78-.78 2.05 0 2.83L4 21.41c.39.39.9.59 1.41.59.51 0 1.02-.2 1.41-.59l7.78-7.78 2.81-2.81c.8-.78.8-2.07 0-2.86zM5.41 20L4 18.59l7.72-7.72 1.47 1.35L5.41 20z\"/>\n",
              "  </svg>\n",
              "      </button>\n",
              "      \n",
              "  <style>\n",
              "    .colab-df-container {\n",
              "      display:flex;\n",
              "      flex-wrap:wrap;\n",
              "      gap: 12px;\n",
              "    }\n",
              "\n",
              "    .colab-df-convert {\n",
              "      background-color: #E8F0FE;\n",
              "      border: none;\n",
              "      border-radius: 50%;\n",
              "      cursor: pointer;\n",
              "      display: none;\n",
              "      fill: #1967D2;\n",
              "      height: 32px;\n",
              "      padding: 0 0 0 0;\n",
              "      width: 32px;\n",
              "    }\n",
              "\n",
              "    .colab-df-convert:hover {\n",
              "      background-color: #E2EBFA;\n",
              "      box-shadow: 0px 1px 2px rgba(60, 64, 67, 0.3), 0px 1px 3px 1px rgba(60, 64, 67, 0.15);\n",
              "      fill: #174EA6;\n",
              "    }\n",
              "\n",
              "    [theme=dark] .colab-df-convert {\n",
              "      background-color: #3B4455;\n",
              "      fill: #D2E3FC;\n",
              "    }\n",
              "\n",
              "    [theme=dark] .colab-df-convert:hover {\n",
              "      background-color: #434B5C;\n",
              "      box-shadow: 0px 1px 3px 1px rgba(0, 0, 0, 0.15);\n",
              "      filter: drop-shadow(0px 1px 2px rgba(0, 0, 0, 0.3));\n",
              "      fill: #FFFFFF;\n",
              "    }\n",
              "  </style>\n",
              "\n",
              "      <script>\n",
              "        const buttonEl =\n",
              "          document.querySelector('#df-1f260c8c-7f78-441e-98d2-e45124465e0c button.colab-df-convert');\n",
              "        buttonEl.style.display =\n",
              "          google.colab.kernel.accessAllowed ? 'block' : 'none';\n",
              "\n",
              "        async function convertToInteractive(key) {\n",
              "          const element = document.querySelector('#df-1f260c8c-7f78-441e-98d2-e45124465e0c');\n",
              "          const dataTable =\n",
              "            await google.colab.kernel.invokeFunction('convertToInteractive',\n",
              "                                                     [key], {});\n",
              "          if (!dataTable) return;\n",
              "\n",
              "          const docLinkHtml = 'Like what you see? Visit the ' +\n",
              "            '<a target=\"_blank\" href=https://colab.research.google.com/notebooks/data_table.ipynb>data table notebook</a>'\n",
              "            + ' to learn more about interactive tables.';\n",
              "          element.innerHTML = '';\n",
              "          dataTable['output_type'] = 'display_data';\n",
              "          await google.colab.output.renderOutput(dataTable, element);\n",
              "          const docLink = document.createElement('div');\n",
              "          docLink.innerHTML = docLinkHtml;\n",
              "          element.appendChild(docLink);\n",
              "        }\n",
              "      </script>\n",
              "    </div>\n",
              "  </div>\n",
              "  "
            ]
          },
          "metadata": {},
          "execution_count": 196
        }
      ]
    },
    {
      "cell_type": "markdown",
      "source": [
        "## Normalization"
      ],
      "metadata": {
        "id": "K4yVelcioaDT"
      }
    },
    {
      "cell_type": "code",
      "source": [
        "# normalisasi data\n",
        "df1['avg_booking'] = round(df1['num_booking']/ df1['unique_year'],1)\n",
        "df1"
      ],
      "metadata": {
        "id": "GeBJOxanonHb",
        "colab": {
          "base_uri": "https://localhost:8080/",
          "height": 801
        },
        "outputId": "c2aacc82-39f0-4b5d-a80d-9b1f290ea460"
      },
      "execution_count": null,
      "outputs": [
        {
          "output_type": "execute_result",
          "data": {
            "text/plain": [
              "      hotel_type arrival_month  unique_year  num_booking  avg_booking\n",
              "0     City Hotel         April            2         3546       1773.0\n",
              "1     City Hotel        August            2         4919       2459.5\n",
              "2     City Hotel      December            2         4048       2024.0\n",
              "3     City Hotel      February            2         2967       1483.5\n",
              "4     City Hotel       January            2         2875       1437.5\n",
              "5     City Hotel          July            2         5334       2667.0\n",
              "6     City Hotel          June            2         5027       2513.5\n",
              "7     City Hotel         March            2         2692       1346.0\n",
              "8     City Hotel           May            2         4798       2399.0\n",
              "9     City Hotel      November            2         4055       2027.5\n",
              "10    City Hotel       October            3         6488       2162.7\n",
              "11    City Hotel     September            3         5673       1891.0\n",
              "12  Resort Hotel         April            2         2474       1237.0\n",
              "13  Resort Hotel        August            2         2729       1364.5\n",
              "14  Resort Hotel      December            2         2658       1329.0\n",
              "15  Resort Hotel      February            2         2096       1048.0\n",
              "16  Resort Hotel       January            2         2026       1013.0\n",
              "17  Resort Hotel          July            2         2897       1448.5\n",
              "18  Resort Hotel          June            2         2776       1388.0\n",
              "19  Resort Hotel         March            2         1932        966.0\n",
              "20  Resort Hotel           May            2         2613       1306.5\n",
              "21  Resort Hotel      November            2         2394       1197.0\n",
              "22  Resort Hotel       October            3         4647       1549.0\n",
              "23  Resort Hotel     September            3         4300       1433.3"
            ],
            "text/html": [
              "\n",
              "  <div id=\"df-ef6da231-6383-48dc-bad7-d1e0e9364f64\">\n",
              "    <div class=\"colab-df-container\">\n",
              "      <div>\n",
              "<style scoped>\n",
              "    .dataframe tbody tr th:only-of-type {\n",
              "        vertical-align: middle;\n",
              "    }\n",
              "\n",
              "    .dataframe tbody tr th {\n",
              "        vertical-align: top;\n",
              "    }\n",
              "\n",
              "    .dataframe thead th {\n",
              "        text-align: right;\n",
              "    }\n",
              "</style>\n",
              "<table border=\"1\" class=\"dataframe\">\n",
              "  <thead>\n",
              "    <tr style=\"text-align: right;\">\n",
              "      <th></th>\n",
              "      <th>hotel_type</th>\n",
              "      <th>arrival_month</th>\n",
              "      <th>unique_year</th>\n",
              "      <th>num_booking</th>\n",
              "      <th>avg_booking</th>\n",
              "    </tr>\n",
              "  </thead>\n",
              "  <tbody>\n",
              "    <tr>\n",
              "      <th>0</th>\n",
              "      <td>City Hotel</td>\n",
              "      <td>April</td>\n",
              "      <td>2</td>\n",
              "      <td>3546</td>\n",
              "      <td>1773.0</td>\n",
              "    </tr>\n",
              "    <tr>\n",
              "      <th>1</th>\n",
              "      <td>City Hotel</td>\n",
              "      <td>August</td>\n",
              "      <td>2</td>\n",
              "      <td>4919</td>\n",
              "      <td>2459.5</td>\n",
              "    </tr>\n",
              "    <tr>\n",
              "      <th>2</th>\n",
              "      <td>City Hotel</td>\n",
              "      <td>December</td>\n",
              "      <td>2</td>\n",
              "      <td>4048</td>\n",
              "      <td>2024.0</td>\n",
              "    </tr>\n",
              "    <tr>\n",
              "      <th>3</th>\n",
              "      <td>City Hotel</td>\n",
              "      <td>February</td>\n",
              "      <td>2</td>\n",
              "      <td>2967</td>\n",
              "      <td>1483.5</td>\n",
              "    </tr>\n",
              "    <tr>\n",
              "      <th>4</th>\n",
              "      <td>City Hotel</td>\n",
              "      <td>January</td>\n",
              "      <td>2</td>\n",
              "      <td>2875</td>\n",
              "      <td>1437.5</td>\n",
              "    </tr>\n",
              "    <tr>\n",
              "      <th>5</th>\n",
              "      <td>City Hotel</td>\n",
              "      <td>July</td>\n",
              "      <td>2</td>\n",
              "      <td>5334</td>\n",
              "      <td>2667.0</td>\n",
              "    </tr>\n",
              "    <tr>\n",
              "      <th>6</th>\n",
              "      <td>City Hotel</td>\n",
              "      <td>June</td>\n",
              "      <td>2</td>\n",
              "      <td>5027</td>\n",
              "      <td>2513.5</td>\n",
              "    </tr>\n",
              "    <tr>\n",
              "      <th>7</th>\n",
              "      <td>City Hotel</td>\n",
              "      <td>March</td>\n",
              "      <td>2</td>\n",
              "      <td>2692</td>\n",
              "      <td>1346.0</td>\n",
              "    </tr>\n",
              "    <tr>\n",
              "      <th>8</th>\n",
              "      <td>City Hotel</td>\n",
              "      <td>May</td>\n",
              "      <td>2</td>\n",
              "      <td>4798</td>\n",
              "      <td>2399.0</td>\n",
              "    </tr>\n",
              "    <tr>\n",
              "      <th>9</th>\n",
              "      <td>City Hotel</td>\n",
              "      <td>November</td>\n",
              "      <td>2</td>\n",
              "      <td>4055</td>\n",
              "      <td>2027.5</td>\n",
              "    </tr>\n",
              "    <tr>\n",
              "      <th>10</th>\n",
              "      <td>City Hotel</td>\n",
              "      <td>October</td>\n",
              "      <td>3</td>\n",
              "      <td>6488</td>\n",
              "      <td>2162.7</td>\n",
              "    </tr>\n",
              "    <tr>\n",
              "      <th>11</th>\n",
              "      <td>City Hotel</td>\n",
              "      <td>September</td>\n",
              "      <td>3</td>\n",
              "      <td>5673</td>\n",
              "      <td>1891.0</td>\n",
              "    </tr>\n",
              "    <tr>\n",
              "      <th>12</th>\n",
              "      <td>Resort Hotel</td>\n",
              "      <td>April</td>\n",
              "      <td>2</td>\n",
              "      <td>2474</td>\n",
              "      <td>1237.0</td>\n",
              "    </tr>\n",
              "    <tr>\n",
              "      <th>13</th>\n",
              "      <td>Resort Hotel</td>\n",
              "      <td>August</td>\n",
              "      <td>2</td>\n",
              "      <td>2729</td>\n",
              "      <td>1364.5</td>\n",
              "    </tr>\n",
              "    <tr>\n",
              "      <th>14</th>\n",
              "      <td>Resort Hotel</td>\n",
              "      <td>December</td>\n",
              "      <td>2</td>\n",
              "      <td>2658</td>\n",
              "      <td>1329.0</td>\n",
              "    </tr>\n",
              "    <tr>\n",
              "      <th>15</th>\n",
              "      <td>Resort Hotel</td>\n",
              "      <td>February</td>\n",
              "      <td>2</td>\n",
              "      <td>2096</td>\n",
              "      <td>1048.0</td>\n",
              "    </tr>\n",
              "    <tr>\n",
              "      <th>16</th>\n",
              "      <td>Resort Hotel</td>\n",
              "      <td>January</td>\n",
              "      <td>2</td>\n",
              "      <td>2026</td>\n",
              "      <td>1013.0</td>\n",
              "    </tr>\n",
              "    <tr>\n",
              "      <th>17</th>\n",
              "      <td>Resort Hotel</td>\n",
              "      <td>July</td>\n",
              "      <td>2</td>\n",
              "      <td>2897</td>\n",
              "      <td>1448.5</td>\n",
              "    </tr>\n",
              "    <tr>\n",
              "      <th>18</th>\n",
              "      <td>Resort Hotel</td>\n",
              "      <td>June</td>\n",
              "      <td>2</td>\n",
              "      <td>2776</td>\n",
              "      <td>1388.0</td>\n",
              "    </tr>\n",
              "    <tr>\n",
              "      <th>19</th>\n",
              "      <td>Resort Hotel</td>\n",
              "      <td>March</td>\n",
              "      <td>2</td>\n",
              "      <td>1932</td>\n",
              "      <td>966.0</td>\n",
              "    </tr>\n",
              "    <tr>\n",
              "      <th>20</th>\n",
              "      <td>Resort Hotel</td>\n",
              "      <td>May</td>\n",
              "      <td>2</td>\n",
              "      <td>2613</td>\n",
              "      <td>1306.5</td>\n",
              "    </tr>\n",
              "    <tr>\n",
              "      <th>21</th>\n",
              "      <td>Resort Hotel</td>\n",
              "      <td>November</td>\n",
              "      <td>2</td>\n",
              "      <td>2394</td>\n",
              "      <td>1197.0</td>\n",
              "    </tr>\n",
              "    <tr>\n",
              "      <th>22</th>\n",
              "      <td>Resort Hotel</td>\n",
              "      <td>October</td>\n",
              "      <td>3</td>\n",
              "      <td>4647</td>\n",
              "      <td>1549.0</td>\n",
              "    </tr>\n",
              "    <tr>\n",
              "      <th>23</th>\n",
              "      <td>Resort Hotel</td>\n",
              "      <td>September</td>\n",
              "      <td>3</td>\n",
              "      <td>4300</td>\n",
              "      <td>1433.3</td>\n",
              "    </tr>\n",
              "  </tbody>\n",
              "</table>\n",
              "</div>\n",
              "      <button class=\"colab-df-convert\" onclick=\"convertToInteractive('df-ef6da231-6383-48dc-bad7-d1e0e9364f64')\"\n",
              "              title=\"Convert this dataframe to an interactive table.\"\n",
              "              style=\"display:none;\">\n",
              "        \n",
              "  <svg xmlns=\"http://www.w3.org/2000/svg\" height=\"24px\"viewBox=\"0 0 24 24\"\n",
              "       width=\"24px\">\n",
              "    <path d=\"M0 0h24v24H0V0z\" fill=\"none\"/>\n",
              "    <path d=\"M18.56 5.44l.94 2.06.94-2.06 2.06-.94-2.06-.94-.94-2.06-.94 2.06-2.06.94zm-11 1L8.5 8.5l.94-2.06 2.06-.94-2.06-.94L8.5 2.5l-.94 2.06-2.06.94zm10 10l.94 2.06.94-2.06 2.06-.94-2.06-.94-.94-2.06-.94 2.06-2.06.94z\"/><path d=\"M17.41 7.96l-1.37-1.37c-.4-.4-.92-.59-1.43-.59-.52 0-1.04.2-1.43.59L10.3 9.45l-7.72 7.72c-.78.78-.78 2.05 0 2.83L4 21.41c.39.39.9.59 1.41.59.51 0 1.02-.2 1.41-.59l7.78-7.78 2.81-2.81c.8-.78.8-2.07 0-2.86zM5.41 20L4 18.59l7.72-7.72 1.47 1.35L5.41 20z\"/>\n",
              "  </svg>\n",
              "      </button>\n",
              "      \n",
              "  <style>\n",
              "    .colab-df-container {\n",
              "      display:flex;\n",
              "      flex-wrap:wrap;\n",
              "      gap: 12px;\n",
              "    }\n",
              "\n",
              "    .colab-df-convert {\n",
              "      background-color: #E8F0FE;\n",
              "      border: none;\n",
              "      border-radius: 50%;\n",
              "      cursor: pointer;\n",
              "      display: none;\n",
              "      fill: #1967D2;\n",
              "      height: 32px;\n",
              "      padding: 0 0 0 0;\n",
              "      width: 32px;\n",
              "    }\n",
              "\n",
              "    .colab-df-convert:hover {\n",
              "      background-color: #E2EBFA;\n",
              "      box-shadow: 0px 1px 2px rgba(60, 64, 67, 0.3), 0px 1px 3px 1px rgba(60, 64, 67, 0.15);\n",
              "      fill: #174EA6;\n",
              "    }\n",
              "\n",
              "    [theme=dark] .colab-df-convert {\n",
              "      background-color: #3B4455;\n",
              "      fill: #D2E3FC;\n",
              "    }\n",
              "\n",
              "    [theme=dark] .colab-df-convert:hover {\n",
              "      background-color: #434B5C;\n",
              "      box-shadow: 0px 1px 3px 1px rgba(0, 0, 0, 0.15);\n",
              "      filter: drop-shadow(0px 1px 2px rgba(0, 0, 0, 0.3));\n",
              "      fill: #FFFFFF;\n",
              "    }\n",
              "  </style>\n",
              "\n",
              "      <script>\n",
              "        const buttonEl =\n",
              "          document.querySelector('#df-ef6da231-6383-48dc-bad7-d1e0e9364f64 button.colab-df-convert');\n",
              "        buttonEl.style.display =\n",
              "          google.colab.kernel.accessAllowed ? 'block' : 'none';\n",
              "\n",
              "        async function convertToInteractive(key) {\n",
              "          const element = document.querySelector('#df-ef6da231-6383-48dc-bad7-d1e0e9364f64');\n",
              "          const dataTable =\n",
              "            await google.colab.kernel.invokeFunction('convertToInteractive',\n",
              "                                                     [key], {});\n",
              "          if (!dataTable) return;\n",
              "\n",
              "          const docLinkHtml = 'Like what you see? Visit the ' +\n",
              "            '<a target=\"_blank\" href=https://colab.research.google.com/notebooks/data_table.ipynb>data table notebook</a>'\n",
              "            + ' to learn more about interactive tables.';\n",
              "          element.innerHTML = '';\n",
              "          dataTable['output_type'] = 'display_data';\n",
              "          await google.colab.output.renderOutput(dataTable, element);\n",
              "          const docLink = document.createElement('div');\n",
              "          docLink.innerHTML = docLinkHtml;\n",
              "          element.appendChild(docLink);\n",
              "        }\n",
              "      </script>\n",
              "    </div>\n",
              "  </div>\n",
              "  "
            ]
          },
          "metadata": {},
          "execution_count": 197
        }
      ]
    },
    {
      "cell_type": "markdown",
      "source": [
        "## Data Sort by Month"
      ],
      "metadata": {
        "id": "SQuLP1bsoaNs"
      }
    },
    {
      "cell_type": "code",
      "source": [
        "df1 = df1.sort_values('arrival_month', key=lambda x: pd.to_datetime(x, format='%B').dt.month)\n",
        "df1 = df1[['hotel_type','arrival_month', 'avg_booking']]\n",
        "df1"
      ],
      "metadata": {
        "id": "0cCFbw29onnw",
        "colab": {
          "base_uri": "https://localhost:8080/",
          "height": 801
        },
        "outputId": "78cbd6b4-28a5-4d29-fecf-9ac34759bd8a"
      },
      "execution_count": null,
      "outputs": [
        {
          "output_type": "execute_result",
          "data": {
            "text/plain": [
              "      hotel_type arrival_month  avg_booking\n",
              "4     City Hotel       January       1437.5\n",
              "16  Resort Hotel       January       1013.0\n",
              "3     City Hotel      February       1483.5\n",
              "15  Resort Hotel      February       1048.0\n",
              "7     City Hotel         March       1346.0\n",
              "19  Resort Hotel         March        966.0\n",
              "0     City Hotel         April       1773.0\n",
              "12  Resort Hotel         April       1237.0\n",
              "20  Resort Hotel           May       1306.5\n",
              "8     City Hotel           May       2399.0\n",
              "6     City Hotel          June       2513.5\n",
              "18  Resort Hotel          June       1388.0\n",
              "5     City Hotel          July       2667.0\n",
              "17  Resort Hotel          July       1448.5\n",
              "1     City Hotel        August       2459.5\n",
              "13  Resort Hotel        August       1364.5\n",
              "11    City Hotel     September       1891.0\n",
              "23  Resort Hotel     September       1433.3\n",
              "22  Resort Hotel       October       1549.0\n",
              "10    City Hotel       October       2162.7\n",
              "9     City Hotel      November       2027.5\n",
              "21  Resort Hotel      November       1197.0\n",
              "2     City Hotel      December       2024.0\n",
              "14  Resort Hotel      December       1329.0"
            ],
            "text/html": [
              "\n",
              "  <div id=\"df-ed1e55de-b68f-4099-bc48-6c8131b4c565\">\n",
              "    <div class=\"colab-df-container\">\n",
              "      <div>\n",
              "<style scoped>\n",
              "    .dataframe tbody tr th:only-of-type {\n",
              "        vertical-align: middle;\n",
              "    }\n",
              "\n",
              "    .dataframe tbody tr th {\n",
              "        vertical-align: top;\n",
              "    }\n",
              "\n",
              "    .dataframe thead th {\n",
              "        text-align: right;\n",
              "    }\n",
              "</style>\n",
              "<table border=\"1\" class=\"dataframe\">\n",
              "  <thead>\n",
              "    <tr style=\"text-align: right;\">\n",
              "      <th></th>\n",
              "      <th>hotel_type</th>\n",
              "      <th>arrival_month</th>\n",
              "      <th>avg_booking</th>\n",
              "    </tr>\n",
              "  </thead>\n",
              "  <tbody>\n",
              "    <tr>\n",
              "      <th>4</th>\n",
              "      <td>City Hotel</td>\n",
              "      <td>January</td>\n",
              "      <td>1437.5</td>\n",
              "    </tr>\n",
              "    <tr>\n",
              "      <th>16</th>\n",
              "      <td>Resort Hotel</td>\n",
              "      <td>January</td>\n",
              "      <td>1013.0</td>\n",
              "    </tr>\n",
              "    <tr>\n",
              "      <th>3</th>\n",
              "      <td>City Hotel</td>\n",
              "      <td>February</td>\n",
              "      <td>1483.5</td>\n",
              "    </tr>\n",
              "    <tr>\n",
              "      <th>15</th>\n",
              "      <td>Resort Hotel</td>\n",
              "      <td>February</td>\n",
              "      <td>1048.0</td>\n",
              "    </tr>\n",
              "    <tr>\n",
              "      <th>7</th>\n",
              "      <td>City Hotel</td>\n",
              "      <td>March</td>\n",
              "      <td>1346.0</td>\n",
              "    </tr>\n",
              "    <tr>\n",
              "      <th>19</th>\n",
              "      <td>Resort Hotel</td>\n",
              "      <td>March</td>\n",
              "      <td>966.0</td>\n",
              "    </tr>\n",
              "    <tr>\n",
              "      <th>0</th>\n",
              "      <td>City Hotel</td>\n",
              "      <td>April</td>\n",
              "      <td>1773.0</td>\n",
              "    </tr>\n",
              "    <tr>\n",
              "      <th>12</th>\n",
              "      <td>Resort Hotel</td>\n",
              "      <td>April</td>\n",
              "      <td>1237.0</td>\n",
              "    </tr>\n",
              "    <tr>\n",
              "      <th>20</th>\n",
              "      <td>Resort Hotel</td>\n",
              "      <td>May</td>\n",
              "      <td>1306.5</td>\n",
              "    </tr>\n",
              "    <tr>\n",
              "      <th>8</th>\n",
              "      <td>City Hotel</td>\n",
              "      <td>May</td>\n",
              "      <td>2399.0</td>\n",
              "    </tr>\n",
              "    <tr>\n",
              "      <th>6</th>\n",
              "      <td>City Hotel</td>\n",
              "      <td>June</td>\n",
              "      <td>2513.5</td>\n",
              "    </tr>\n",
              "    <tr>\n",
              "      <th>18</th>\n",
              "      <td>Resort Hotel</td>\n",
              "      <td>June</td>\n",
              "      <td>1388.0</td>\n",
              "    </tr>\n",
              "    <tr>\n",
              "      <th>5</th>\n",
              "      <td>City Hotel</td>\n",
              "      <td>July</td>\n",
              "      <td>2667.0</td>\n",
              "    </tr>\n",
              "    <tr>\n",
              "      <th>17</th>\n",
              "      <td>Resort Hotel</td>\n",
              "      <td>July</td>\n",
              "      <td>1448.5</td>\n",
              "    </tr>\n",
              "    <tr>\n",
              "      <th>1</th>\n",
              "      <td>City Hotel</td>\n",
              "      <td>August</td>\n",
              "      <td>2459.5</td>\n",
              "    </tr>\n",
              "    <tr>\n",
              "      <th>13</th>\n",
              "      <td>Resort Hotel</td>\n",
              "      <td>August</td>\n",
              "      <td>1364.5</td>\n",
              "    </tr>\n",
              "    <tr>\n",
              "      <th>11</th>\n",
              "      <td>City Hotel</td>\n",
              "      <td>September</td>\n",
              "      <td>1891.0</td>\n",
              "    </tr>\n",
              "    <tr>\n",
              "      <th>23</th>\n",
              "      <td>Resort Hotel</td>\n",
              "      <td>September</td>\n",
              "      <td>1433.3</td>\n",
              "    </tr>\n",
              "    <tr>\n",
              "      <th>22</th>\n",
              "      <td>Resort Hotel</td>\n",
              "      <td>October</td>\n",
              "      <td>1549.0</td>\n",
              "    </tr>\n",
              "    <tr>\n",
              "      <th>10</th>\n",
              "      <td>City Hotel</td>\n",
              "      <td>October</td>\n",
              "      <td>2162.7</td>\n",
              "    </tr>\n",
              "    <tr>\n",
              "      <th>9</th>\n",
              "      <td>City Hotel</td>\n",
              "      <td>November</td>\n",
              "      <td>2027.5</td>\n",
              "    </tr>\n",
              "    <tr>\n",
              "      <th>21</th>\n",
              "      <td>Resort Hotel</td>\n",
              "      <td>November</td>\n",
              "      <td>1197.0</td>\n",
              "    </tr>\n",
              "    <tr>\n",
              "      <th>2</th>\n",
              "      <td>City Hotel</td>\n",
              "      <td>December</td>\n",
              "      <td>2024.0</td>\n",
              "    </tr>\n",
              "    <tr>\n",
              "      <th>14</th>\n",
              "      <td>Resort Hotel</td>\n",
              "      <td>December</td>\n",
              "      <td>1329.0</td>\n",
              "    </tr>\n",
              "  </tbody>\n",
              "</table>\n",
              "</div>\n",
              "      <button class=\"colab-df-convert\" onclick=\"convertToInteractive('df-ed1e55de-b68f-4099-bc48-6c8131b4c565')\"\n",
              "              title=\"Convert this dataframe to an interactive table.\"\n",
              "              style=\"display:none;\">\n",
              "        \n",
              "  <svg xmlns=\"http://www.w3.org/2000/svg\" height=\"24px\"viewBox=\"0 0 24 24\"\n",
              "       width=\"24px\">\n",
              "    <path d=\"M0 0h24v24H0V0z\" fill=\"none\"/>\n",
              "    <path d=\"M18.56 5.44l.94 2.06.94-2.06 2.06-.94-2.06-.94-.94-2.06-.94 2.06-2.06.94zm-11 1L8.5 8.5l.94-2.06 2.06-.94-2.06-.94L8.5 2.5l-.94 2.06-2.06.94zm10 10l.94 2.06.94-2.06 2.06-.94-2.06-.94-.94-2.06-.94 2.06-2.06.94z\"/><path d=\"M17.41 7.96l-1.37-1.37c-.4-.4-.92-.59-1.43-.59-.52 0-1.04.2-1.43.59L10.3 9.45l-7.72 7.72c-.78.78-.78 2.05 0 2.83L4 21.41c.39.39.9.59 1.41.59.51 0 1.02-.2 1.41-.59l7.78-7.78 2.81-2.81c.8-.78.8-2.07 0-2.86zM5.41 20L4 18.59l7.72-7.72 1.47 1.35L5.41 20z\"/>\n",
              "  </svg>\n",
              "      </button>\n",
              "      \n",
              "  <style>\n",
              "    .colab-df-container {\n",
              "      display:flex;\n",
              "      flex-wrap:wrap;\n",
              "      gap: 12px;\n",
              "    }\n",
              "\n",
              "    .colab-df-convert {\n",
              "      background-color: #E8F0FE;\n",
              "      border: none;\n",
              "      border-radius: 50%;\n",
              "      cursor: pointer;\n",
              "      display: none;\n",
              "      fill: #1967D2;\n",
              "      height: 32px;\n",
              "      padding: 0 0 0 0;\n",
              "      width: 32px;\n",
              "    }\n",
              "\n",
              "    .colab-df-convert:hover {\n",
              "      background-color: #E2EBFA;\n",
              "      box-shadow: 0px 1px 2px rgba(60, 64, 67, 0.3), 0px 1px 3px 1px rgba(60, 64, 67, 0.15);\n",
              "      fill: #174EA6;\n",
              "    }\n",
              "\n",
              "    [theme=dark] .colab-df-convert {\n",
              "      background-color: #3B4455;\n",
              "      fill: #D2E3FC;\n",
              "    }\n",
              "\n",
              "    [theme=dark] .colab-df-convert:hover {\n",
              "      background-color: #434B5C;\n",
              "      box-shadow: 0px 1px 3px 1px rgba(0, 0, 0, 0.15);\n",
              "      filter: drop-shadow(0px 1px 2px rgba(0, 0, 0, 0.3));\n",
              "      fill: #FFFFFF;\n",
              "    }\n",
              "  </style>\n",
              "\n",
              "      <script>\n",
              "        const buttonEl =\n",
              "          document.querySelector('#df-ed1e55de-b68f-4099-bc48-6c8131b4c565 button.colab-df-convert');\n",
              "        buttonEl.style.display =\n",
              "          google.colab.kernel.accessAllowed ? 'block' : 'none';\n",
              "\n",
              "        async function convertToInteractive(key) {\n",
              "          const element = document.querySelector('#df-ed1e55de-b68f-4099-bc48-6c8131b4c565');\n",
              "          const dataTable =\n",
              "            await google.colab.kernel.invokeFunction('convertToInteractive',\n",
              "                                                     [key], {});\n",
              "          if (!dataTable) return;\n",
              "\n",
              "          const docLinkHtml = 'Like what you see? Visit the ' +\n",
              "            '<a target=\"_blank\" href=https://colab.research.google.com/notebooks/data_table.ipynb>data table notebook</a>'\n",
              "            + ' to learn more about interactive tables.';\n",
              "          element.innerHTML = '';\n",
              "          dataTable['output_type'] = 'display_data';\n",
              "          await google.colab.output.renderOutput(dataTable, element);\n",
              "          const docLink = document.createElement('div');\n",
              "          docLink.innerHTML = docLinkHtml;\n",
              "          element.appendChild(docLink);\n",
              "        }\n",
              "      </script>\n",
              "    </div>\n",
              "  </div>\n",
              "  "
            ]
          },
          "metadata": {},
          "execution_count": 198
        }
      ]
    },
    {
      "cell_type": "markdown",
      "source": [
        "## Plot"
      ],
      "metadata": {
        "id": "yNJWSov-oaUN"
      }
    },
    {
      "cell_type": "code",
      "source": [
        "# plot\n",
        "plt.figure(figsize=(18,8))\n",
        "sns.lineplot(data = df1, x = 'arrival_month', y = 'avg_booking', hue = 'hotel_type', palette='YlOrRd')\n",
        "plt.title('Total Average Booking \\nCustomer per Month', weight='bold', fontsize = 20)\n",
        "plt.ylabel('Avg Booking', weight='bold' , fontsize = 15)\n",
        "plt.xlabel('Month', weight='bold' , fontsize = 15)\n",
        "\n",
        "# blok and text\n",
        "plt.stackplot(np.arange(5,7), [2700], color='forestgreen', alpha=0.3)\n",
        "plt.text(x = 5.5, y = 700, s = 'Holiday', va = 'center', ha = 'center', fontsize =15, color='forestgreen')\n",
        "\n",
        "# line and text\n",
        "plt.axvline(6, color='cornflowerblue', linestyle='--',ymax = 0.98, ymin = 0)\n",
        "plt.text(x = 6.4, y = 2700, s = 'Highest', va = 'center', ha = 'center', fontsize =15, color='goldenrod')\n",
        "\n",
        "plt.axvline(9, color='cornflowerblue', linestyle='--',ymax = 0.98, ymin = 0)\n",
        "plt.text(x = 9.4, y = 1600, s = 'Highest', va = 'center', ha = 'center', fontsize =15, color='red')\n",
        "\n",
        "plt.axvline(2, color='cornflowerblue', linestyle='--', ymax = 0.98, ymin = 0)\n",
        "plt.text(x = 1.6, y = 1300, s = 'Lowest', va = 'center', ha = 'center', fontsize =15, color='goldenrod')\n",
        "plt.text(x = 1.6, y = 900, s = 'Lowest', va = 'center', ha = 'center', fontsize =15, color='red')\n",
        "\n",
        "plt.xlim(0,11)\n",
        "plt.legend(loc='best', fontsize =15)\n",
        "plt.show()"
      ],
      "metadata": {
        "colab": {
          "base_uri": "https://localhost:8080/",
          "height": 750
        },
        "id": "BWOzarzZ6cVs",
        "outputId": "f8d12620-6af1-40c4-f2c8-1edb5a0d8d3c"
      },
      "execution_count": null,
      "outputs": [
        {
          "output_type": "display_data",
          "data": {
            "text/plain": [
              "<Figure size 1800x800 with 1 Axes>"
            ],
            "image/png": "[encoded data removed]"
          },
          "metadata": {}
        }
      ]
    },
    {
      "cell_type": "markdown",
      "source": [
        "## Insight"
      ],
      "metadata": {
        "id": "itDytwAnokj5"
      }
    },
    {
      "cell_type": "markdown",
      "source": [
        "- Jumlah booking pada hotel bertipe 'City Hotel' selalu lebih banyak dibandingkan dengan 'Resort Hotel' setiap bulannya.\n",
        "\n",
        "- Pada musim libur sekolah (Juni - July) jumlah booking hotel naik, terutama untuk hotel berjenis 'City' yang mencapai jumlah pemesanan tertinggi. Sedangkan yang bertipe 'Resort' pemesanan terbanyak pada bulan Oktober.\n",
        "\n",
        "- Pada libur akhir tahun, terjadi juga kenaikan jumlah pemesanan, namun tidak sebanyak pada hari libur pertangahan tahun.\n",
        "\n",
        "- Jumlah booking diluar hari libur selalu tidak sebanyak pada saat libur, terutama pada bulan Maret yang mencapai titik terenda rata-rata booking dalam hitungan bulan."
      ],
      "metadata": {
        "id": "fU6QEb-f70zc"
      }
    },
    {
      "cell_type": "markdown",
      "source": [
        "# Impact Analysis of Stay Duration on Hotel Bookings Cancellation Rates"
      ],
      "metadata": {
        "id": "rSTcwy45rqj1"
      }
    },
    {
      "cell_type": "markdown",
      "source": [
        "## Total duration of stay"
      ],
      "metadata": {
        "id": "Dhr3Zprq4n2G"
      }
    },
    {
      "cell_type": "code",
      "source": [
        "df.info()"
      ],
      "metadata": {
        "colab": {
          "base_uri": "https://localhost:8080/"
        },
        "id": "ALI0_DTkY9tw",
        "outputId": "43260231-dbff-4365-f271-208e18c45ea9"
      },
      "execution_count": null,
      "outputs": [
        {
          "output_type": "stream",
          "name": "stdout",
          "text": [
            "<class 'pandas.core.frame.DataFrame'>\n",
            "Int64Index: 85964 entries, 0 to 119389\n",
            "Data columns (total 27 columns):\n",
            " #   Column                          Non-Null Count  Dtype  \n",
            "---  ------                          --------------  -----  \n",
            " 0   hotel                           85964 non-null  object \n",
            " 1   is_canceled                     85964 non-null  int64  \n",
            " 2   lead_time                       85964 non-null  int64  \n",
            " 3   arrival_date_year               85964 non-null  int64  \n",
            " 4   arrival_date_month              85964 non-null  object \n",
            " 5   arrival_date_week_number        85964 non-null  int64  \n",
            " 6   arrival_date_day_of_month       85964 non-null  int64  \n",
            " 7   stays_in_weekend_nights         85964 non-null  int64  \n",
            " 8   stays_in_weekdays_nights        85964 non-null  int64  \n",
            " 9   meal                            85964 non-null  object \n",
            " 10  city                            85964 non-null  object \n",
            " 11  market_segment                  85964 non-null  object \n",
            " 12  distribution_channel            85964 non-null  object \n",
            " 13  is_repeated_guest               85964 non-null  int64  \n",
            " 14  previous_cancellations          85964 non-null  int64  \n",
            " 15  previous_bookings_not_canceled  85964 non-null  int64  \n",
            " 16  booking_changes                 85964 non-null  int64  \n",
            " 17  deposit_type                    85964 non-null  object \n",
            " 18  agent                           85964 non-null  float64\n",
            " 19  company                         85964 non-null  float64\n",
            " 20  days_in_waiting_list            85964 non-null  int64  \n",
            " 21  customer_type                   85964 non-null  object \n",
            " 22  adr                             85964 non-null  float64\n",
            " 23  required_car_parking_spaces     85964 non-null  int64  \n",
            " 24  total_of_special_requests       85964 non-null  int64  \n",
            " 25  reservation_status              85964 non-null  object \n",
            " 26  guest_number                    85964 non-null  float64\n",
            "dtypes: float64(4), int64(14), object(9)\n",
            "memory usage: 18.4+ MB\n"
          ]
        }
      ]
    },
    {
      "cell_type": "code",
      "source": [
        "df2 = dfcopy.copy()"
      ],
      "metadata": {
        "id": "QbAXiiRBaKpx"
      },
      "execution_count": null,
      "outputs": []
    },
    {
      "cell_type": "code",
      "source": [
        "# membuat kolom 'stay_duration' yang berisikan lama durasi menginap\n",
        "df2['stay_duration'] = df2['stays_in_weekdays_nights'] + df2['stays_in_weekend_nights']\n",
        "df2[['city', 'stay_duration']]"
      ],
      "metadata": {
        "colab": {
          "base_uri": "https://localhost:8080/",
          "height": 423
        },
        "id": "kmZucqyZbUAA",
        "outputId": "cd4aea4a-8acb-42aa-9cd0-86914f9641bc"
      },
      "execution_count": null,
      "outputs": [
        {
          "output_type": "execute_result",
          "data": {
            "text/plain": [
              "                      city  stay_duration\n",
              "0            Kota Denpasar              0\n",
              "1            Kota Denpasar              0\n",
              "2         Kabupaten Bangka              1\n",
              "3         Kabupaten Bangka              1\n",
              "4         Kabupaten Bangka              2\n",
              "...                    ...            ...\n",
              "119385  Kabupaten Magelang              7\n",
              "119386     Kota Yogyakarta              7\n",
              "119387   Kabupaten Bandung              7\n",
              "119388    Kabupaten Bangka              7\n",
              "119389   Kabupaten Bandung              9\n",
              "\n",
              "[85964 rows x 2 columns]"
            ],
            "text/html": [
              "\n",
              "  <div id=\"df-a367c101-a312-489c-9524-5941bc7ff4e2\">\n",
              "    <div class=\"colab-df-container\">\n",
              "      <div>\n",
              "<style scoped>\n",
              "    .dataframe tbody tr th:only-of-type {\n",
              "        vertical-align: middle;\n",
              "    }\n",
              "\n",
              "    .dataframe tbody tr th {\n",
              "        vertical-align: top;\n",
              "    }\n",
              "\n",
              "    .dataframe thead th {\n",
              "        text-align: right;\n",
              "    }\n",
              "</style>\n",
              "<table border=\"1\" class=\"dataframe\">\n",
              "  <thead>\n",
              "    <tr style=\"text-align: right;\">\n",
              "      <th></th>\n",
              "      <th>city</th>\n",
              "      <th>stay_duration</th>\n",
              "    </tr>\n",
              "  </thead>\n",
              "  <tbody>\n",
              "    <tr>\n",
              "      <th>0</th>\n",
              "      <td>Kota Denpasar</td>\n",
              "      <td>0</td>\n",
              "    </tr>\n",
              "    <tr>\n",
              "      <th>1</th>\n",
              "      <td>Kota Denpasar</td>\n",
              "      <td>0</td>\n",
              "    </tr>\n",
              "    <tr>\n",
              "      <th>2</th>\n",
              "      <td>Kabupaten Bangka</td>\n",
              "      <td>1</td>\n",
              "    </tr>\n",
              "    <tr>\n",
              "      <th>3</th>\n",
              "      <td>Kabupaten Bangka</td>\n",
              "      <td>1</td>\n",
              "    </tr>\n",
              "    <tr>\n",
              "      <th>4</th>\n",
              "      <td>Kabupaten Bangka</td>\n",
              "      <td>2</td>\n",
              "    </tr>\n",
              "    <tr>\n",
              "      <th>...</th>\n",
              "      <td>...</td>\n",
              "      <td>...</td>\n",
              "    </tr>\n",
              "    <tr>\n",
              "      <th>119385</th>\n",
              "      <td>Kabupaten Magelang</td>\n",
              "      <td>7</td>\n",
              "    </tr>\n",
              "    <tr>\n",
              "      <th>119386</th>\n",
              "      <td>Kota Yogyakarta</td>\n",
              "      <td>7</td>\n",
              "    </tr>\n",
              "    <tr>\n",
              "      <th>119387</th>\n",
              "      <td>Kabupaten Bandung</td>\n",
              "      <td>7</td>\n",
              "    </tr>\n",
              "    <tr>\n",
              "      <th>119388</th>\n",
              "      <td>Kabupaten Bangka</td>\n",
              "      <td>7</td>\n",
              "    </tr>\n",
              "    <tr>\n",
              "      <th>119389</th>\n",
              "      <td>Kabupaten Bandung</td>\n",
              "      <td>9</td>\n",
              "    </tr>\n",
              "  </tbody>\n",
              "</table>\n",
              "<p>85964 rows × 2 columns</p>\n",
              "</div>\n",
              "      <button class=\"colab-df-convert\" onclick=\"convertToInteractive('df-a367c101-a312-489c-9524-5941bc7ff4e2')\"\n",
              "              title=\"Convert this dataframe to an interactive table.\"\n",
              "              style=\"display:none;\">\n",
              "        \n",
              "  <svg xmlns=\"http://www.w3.org/2000/svg\" height=\"24px\"viewBox=\"0 0 24 24\"\n",
              "       width=\"24px\">\n",
              "    <path d=\"M0 0h24v24H0V0z\" fill=\"none\"/>\n",
              "    <path d=\"M18.56 5.44l.94 2.06.94-2.06 2.06-.94-2.06-.94-.94-2.06-.94 2.06-2.06.94zm-11 1L8.5 8.5l.94-2.06 2.06-.94-2.06-.94L8.5 2.5l-.94 2.06-2.06.94zm10 10l.94 2.06.94-2.06 2.06-.94-2.06-.94-.94-2.06-.94 2.06-2.06.94z\"/><path d=\"M17.41 7.96l-1.37-1.37c-.4-.4-.92-.59-1.43-.59-.52 0-1.04.2-1.43.59L10.3 9.45l-7.72 7.72c-.78.78-.78 2.05 0 2.83L4 21.41c.39.39.9.59 1.41.59.51 0 1.02-.2 1.41-.59l7.78-7.78 2.81-2.81c.8-.78.8-2.07 0-2.86zM5.41 20L4 18.59l7.72-7.72 1.47 1.35L5.41 20z\"/>\n",
              "  </svg>\n",
              "      </button>\n",
              "      \n",
              "  <style>\n",
              "    .colab-df-container {\n",
              "      display:flex;\n",
              "      flex-wrap:wrap;\n",
              "      gap: 12px;\n",
              "    }\n",
              "\n",
              "    .colab-df-convert {\n",
              "      background-color: #E8F0FE;\n",
              "      border: none;\n",
              "      border-radius: 50%;\n",
              "      cursor: pointer;\n",
              "      display: none;\n",
              "      fill: #1967D2;\n",
              "      height: 32px;\n",
              "      padding: 0 0 0 0;\n",
              "      width: 32px;\n",
              "    }\n",
              "\n",
              "    .colab-df-convert:hover {\n",
              "      background-color: #E2EBFA;\n",
              "      box-shadow: 0px 1px 2px rgba(60, 64, 67, 0.3), 0px 1px 3px 1px rgba(60, 64, 67, 0.15);\n",
              "      fill: #174EA6;\n",
              "    }\n",
              "\n",
              "    [theme=dark] .colab-df-convert {\n",
              "      background-color: #3B4455;\n",
              "      fill: #D2E3FC;\n",
              "    }\n",
              "\n",
              "    [theme=dark] .colab-df-convert:hover {\n",
              "      background-color: #434B5C;\n",
              "      box-shadow: 0px 1px 3px 1px rgba(0, 0, 0, 0.15);\n",
              "      filter: drop-shadow(0px 1px 2px rgba(0, 0, 0, 0.3));\n",
              "      fill: #FFFFFF;\n",
              "    }\n",
              "  </style>\n",
              "\n",
              "      <script>\n",
              "        const buttonEl =\n",
              "          document.querySelector('#df-a367c101-a312-489c-9524-5941bc7ff4e2 button.colab-df-convert');\n",
              "        buttonEl.style.display =\n",
              "          google.colab.kernel.accessAllowed ? 'block' : 'none';\n",
              "\n",
              "        async function convertToInteractive(key) {\n",
              "          const element = document.querySelector('#df-a367c101-a312-489c-9524-5941bc7ff4e2');\n",
              "          const dataTable =\n",
              "            await google.colab.kernel.invokeFunction('convertToInteractive',\n",
              "                                                     [key], {});\n",
              "          if (!dataTable) return;\n",
              "\n",
              "          const docLinkHtml = 'Like what you see? Visit the ' +\n",
              "            '<a target=\"_blank\" href=https://colab.research.google.com/notebooks/data_table.ipynb>data table notebook</a>'\n",
              "            + ' to learn more about interactive tables.';\n",
              "          element.innerHTML = '';\n",
              "          dataTable['output_type'] = 'display_data';\n",
              "          await google.colab.output.renderOutput(dataTable, element);\n",
              "          const docLink = document.createElement('div');\n",
              "          docLink.innerHTML = docLinkHtml;\n",
              "          element.appendChild(docLink);\n",
              "        }\n",
              "      </script>\n",
              "    </div>\n",
              "  </div>\n",
              "  "
            ]
          },
          "metadata": {},
          "execution_count": 202
        }
      ]
    },
    {
      "cell_type": "markdown",
      "source": [
        "## Group the values ​​of the new column"
      ],
      "metadata": {
        "id": "cMm0ChFW42el"
      }
    },
    {
      "cell_type": "code",
      "source": [
        "# memeriksa sebaran data dari kolom 'stay_duration'\n",
        "sns.distplot(df2['stay_duration'])"
      ],
      "metadata": {
        "colab": {
          "base_uri": "https://localhost:8080/",
          "height": 832
        },
        "id": "RNr6m8uBcQxu",
        "outputId": "09013146-7e4c-403e-e415-6a2b02089da6"
      },
      "execution_count": null,
      "outputs": [
        {
          "output_type": "stream",
          "name": "stderr",
          "text": [
            "<ipython-input-203-e027e155bf39>:2: UserWarning: \n",
            "\n",
            "`distplot` is a deprecated function and will be removed in seaborn v0.14.0.\n",
            "\n",
            "Please adapt your code to use either `displot` (a figure-level function with\n",
            "similar flexibility) or `histplot` (an axes-level function for histograms).\n",
            "\n",
            "For a guide to updating your code to use the new functions, please see\n",
            "https://gist.github.com/mwaskom/de44147ed2974457ad6372750bbe5751\n",
            "\n",
            "  sns.distplot(df2['stay_duration'])\n"
          ]
        },
        {
          "output_type": "execute_result",
          "data": {
            "text/plain": [
              "<Axes: xlabel='stay_duration', ylabel='Density'>"
            ]
          },
          "metadata": {},
          "execution_count": 203
        },
        {
          "output_type": "display_data",
          "data": {
            "text/plain": [
              "<Figure size 1000x700 with 1 Axes>"
            ],
            "image/png": "[encoded data removed]"
          },
          "metadata": {}
        }
      ]
    },
    {
      "cell_type": "code",
      "source": [
        "# mengelompokkan data berdasarkan waktu (hari, minggu, bulan)\n",
        "df2['duration'] = df2['stay_duration'].apply(lambda x: 'Several days' if x < 7 else ('Several weeks' if x < 30 else ('Several months' if x < 365 else 'Several years')))"
      ],
      "metadata": {
        "id": "fJBWUqIVdDkm"
      },
      "execution_count": null,
      "outputs": []
    },
    {
      "cell_type": "code",
      "source": [
        "df2['duration'].value_counts()"
      ],
      "metadata": {
        "colab": {
          "base_uri": "https://localhost:8080/"
        },
        "id": "4unEJCF5dFaH",
        "outputId": "0ad5b224-e928-4e49-b45a-9210e511fde4"
      },
      "execution_count": null,
      "outputs": [
        {
          "output_type": "execute_result",
          "data": {
            "text/plain": [
              "Several days      73682\n",
              "Several weeks     12251\n",
              "Several months       31\n",
              "Name: duration, dtype: int64"
            ]
          },
          "metadata": {},
          "execution_count": 205
        }
      ]
    },
    {
      "cell_type": "markdown",
      "source": [
        "## Aggregate table - ratio of the number of canceled bookings to the duration of stay for each type of hotel"
      ],
      "metadata": {
        "id": "ksc998Xo5EBT"
      }
    },
    {
      "cell_type": "code",
      "source": [
        "# tabel agregat - jumlah pemesanan hotel yang dibatalkan terhadap durasi menginap untuk setiap jenis hotel\n",
        "df2_cancel = df2[df2['is_canceled'] == 1].groupby(['hotel','duration']).aggregate({'is_canceled' : 'count'}).reset_index()\n",
        "df2_keep = df2[df2['is_canceled'] == 0].groupby(['hotel','duration']).aggregate({'is_canceled' : 'count'}).reset_index()\n",
        "df2_cancel['cancel_ratio'] = df2_cancel['is_canceled'] / (df2_cancel['is_canceled'] + df2_keep['is_canceled']) * 100\n",
        "df2_cancel"
      ],
      "metadata": {
        "colab": {
          "base_uri": "https://localhost:8080/",
          "height": 237
        },
        "id": "j3OJXqjfcmxe",
        "outputId": "b4dce6e9-36b8-4cbd-f4f2-37f1066678e9"
      },
      "execution_count": null,
      "outputs": [
        {
          "output_type": "execute_result",
          "data": {
            "text/plain": [
              "          hotel        duration  is_canceled  cancel_ratio\n",
              "0    City Hotel    Several days        14513     29.360118\n",
              "1    City Hotel  Several months            8     80.000000\n",
              "2    City Hotel   Several weeks         1319     44.246897\n",
              "3  Resort Hotel    Several days         5275     21.751680\n",
              "4  Resort Hotel  Several months            5     23.809524\n",
              "5  Resort Hotel   Several weeks         2600     28.047465"
            ],
            "text/html": [
              "\n",
              "  <div id=\"df-8c623354-0190-47a4-b37d-d88663bab632\">\n",
              "    <div class=\"colab-df-container\">\n",
              "      <div>\n",
              "<style scoped>\n",
              "    .dataframe tbody tr th:only-of-type {\n",
              "        vertical-align: middle;\n",
              "    }\n",
              "\n",
              "    .dataframe tbody tr th {\n",
              "        vertical-align: top;\n",
              "    }\n",
              "\n",
              "    .dataframe thead th {\n",
              "        text-align: right;\n",
              "    }\n",
              "</style>\n",
              "<table border=\"1\" class=\"dataframe\">\n",
              "  <thead>\n",
              "    <tr style=\"text-align: right;\">\n",
              "      <th></th>\n",
              "      <th>hotel</th>\n",
              "      <th>duration</th>\n",
              "      <th>is_canceled</th>\n",
              "      <th>cancel_ratio</th>\n",
              "    </tr>\n",
              "  </thead>\n",
              "  <tbody>\n",
              "    <tr>\n",
              "      <th>0</th>\n",
              "      <td>City Hotel</td>\n",
              "      <td>Several days</td>\n",
              "      <td>14513</td>\n",
              "      <td>29.360118</td>\n",
              "    </tr>\n",
              "    <tr>\n",
              "      <th>1</th>\n",
              "      <td>City Hotel</td>\n",
              "      <td>Several months</td>\n",
              "      <td>8</td>\n",
              "      <td>80.000000</td>\n",
              "    </tr>\n",
              "    <tr>\n",
              "      <th>2</th>\n",
              "      <td>City Hotel</td>\n",
              "      <td>Several weeks</td>\n",
              "      <td>1319</td>\n",
              "      <td>44.246897</td>\n",
              "    </tr>\n",
              "    <tr>\n",
              "      <th>3</th>\n",
              "      <td>Resort Hotel</td>\n",
              "      <td>Several days</td>\n",
              "      <td>5275</td>\n",
              "      <td>21.751680</td>\n",
              "    </tr>\n",
              "    <tr>\n",
              "      <th>4</th>\n",
              "      <td>Resort Hotel</td>\n",
              "      <td>Several months</td>\n",
              "      <td>5</td>\n",
              "      <td>23.809524</td>\n",
              "    </tr>\n",
              "    <tr>\n",
              "      <th>5</th>\n",
              "      <td>Resort Hotel</td>\n",
              "      <td>Several weeks</td>\n",
              "      <td>2600</td>\n",
              "      <td>28.047465</td>\n",
              "    </tr>\n",
              "  </tbody>\n",
              "</table>\n",
              "</div>\n",
              "      <button class=\"colab-df-convert\" onclick=\"convertToInteractive('df-8c623354-0190-47a4-b37d-d88663bab632')\"\n",
              "              title=\"Convert this dataframe to an interactive table.\"\n",
              "              style=\"display:none;\">\n",
              "        \n",
              "  <svg xmlns=\"http://www.w3.org/2000/svg\" height=\"24px\"viewBox=\"0 0 24 24\"\n",
              "       width=\"24px\">\n",
              "    <path d=\"M0 0h24v24H0V0z\" fill=\"none\"/>\n",
              "    <path d=\"M18.56 5.44l.94 2.06.94-2.06 2.06-.94-2.06-.94-.94-2.06-.94 2.06-2.06.94zm-11 1L8.5 8.5l.94-2.06 2.06-.94-2.06-.94L8.5 2.5l-.94 2.06-2.06.94zm10 10l.94 2.06.94-2.06 2.06-.94-2.06-.94-.94-2.06-.94 2.06-2.06.94z\"/><path d=\"M17.41 7.96l-1.37-1.37c-.4-.4-.92-.59-1.43-.59-.52 0-1.04.2-1.43.59L10.3 9.45l-7.72 7.72c-.78.78-.78 2.05 0 2.83L4 21.41c.39.39.9.59 1.41.59.51 0 1.02-.2 1.41-.59l7.78-7.78 2.81-2.81c.8-.78.8-2.07 0-2.86zM5.41 20L4 18.59l7.72-7.72 1.47 1.35L5.41 20z\"/>\n",
              "  </svg>\n",
              "      </button>\n",
              "      \n",
              "  <style>\n",
              "    .colab-df-container {\n",
              "      display:flex;\n",
              "      flex-wrap:wrap;\n",
              "      gap: 12px;\n",
              "    }\n",
              "\n",
              "    .colab-df-convert {\n",
              "      background-color: #E8F0FE;\n",
              "      border: none;\n",
              "      border-radius: 50%;\n",
              "      cursor: pointer;\n",
              "      display: none;\n",
              "      fill: #1967D2;\n",
              "      height: 32px;\n",
              "      padding: 0 0 0 0;\n",
              "      width: 32px;\n",
              "    }\n",
              "\n",
              "    .colab-df-convert:hover {\n",
              "      background-color: #E2EBFA;\n",
              "      box-shadow: 0px 1px 2px rgba(60, 64, 67, 0.3), 0px 1px 3px 1px rgba(60, 64, 67, 0.15);\n",
              "      fill: #174EA6;\n",
              "    }\n",
              "\n",
              "    [theme=dark] .colab-df-convert {\n",
              "      background-color: #3B4455;\n",
              "      fill: #D2E3FC;\n",
              "    }\n",
              "\n",
              "    [theme=dark] .colab-df-convert:hover {\n",
              "      background-color: #434B5C;\n",
              "      box-shadow: 0px 1px 3px 1px rgba(0, 0, 0, 0.15);\n",
              "      filter: drop-shadow(0px 1px 2px rgba(0, 0, 0, 0.3));\n",
              "      fill: #FFFFFF;\n",
              "    }\n",
              "  </style>\n",
              "\n",
              "      <script>\n",
              "        const buttonEl =\n",
              "          document.querySelector('#df-8c623354-0190-47a4-b37d-d88663bab632 button.colab-df-convert');\n",
              "        buttonEl.style.display =\n",
              "          google.colab.kernel.accessAllowed ? 'block' : 'none';\n",
              "\n",
              "        async function convertToInteractive(key) {\n",
              "          const element = document.querySelector('#df-8c623354-0190-47a4-b37d-d88663bab632');\n",
              "          const dataTable =\n",
              "            await google.colab.kernel.invokeFunction('convertToInteractive',\n",
              "                                                     [key], {});\n",
              "          if (!dataTable) return;\n",
              "\n",
              "          const docLinkHtml = 'Like what you see? Visit the ' +\n",
              "            '<a target=\"_blank\" href=https://colab.research.google.com/notebooks/data_table.ipynb>data table notebook</a>'\n",
              "            + ' to learn more about interactive tables.';\n",
              "          element.innerHTML = '';\n",
              "          dataTable['output_type'] = 'display_data';\n",
              "          await google.colab.output.renderOutput(dataTable, element);\n",
              "          const docLink = document.createElement('div');\n",
              "          docLink.innerHTML = docLinkHtml;\n",
              "          element.appendChild(docLink);\n",
              "        }\n",
              "      </script>\n",
              "    </div>\n",
              "  </div>\n",
              "  "
            ]
          },
          "metadata": {},
          "execution_count": 206
        }
      ]
    },
    {
      "cell_type": "code",
      "source": [
        "# mengurutkan lama durasi\n",
        "df2_cancel['order_duration'] = df2_cancel['duration'].apply(lambda x: 1 if x == 'Several days' else (2 if x == 'Several weeks' else (3 if x == 'Several months' else 4)))\n",
        "df2_cancel = df2_cancel.sort_values(['hotel', 'order_duration'])\n",
        "df2_cancel = df2_cancel[['hotel', 'duration', 'is_canceled', 'cancel_ratio']]\n",
        "df2_cancel"
      ],
      "metadata": {
        "colab": {
          "base_uri": "https://localhost:8080/",
          "height": 237
        },
        "id": "10rC55MkgthK",
        "outputId": "0d3ecf82-4a1d-4c8c-a562-b0cbe0c98d3f"
      },
      "execution_count": null,
      "outputs": [
        {
          "output_type": "execute_result",
          "data": {
            "text/plain": [
              "          hotel        duration  is_canceled  cancel_ratio\n",
              "0    City Hotel    Several days        14513     29.360118\n",
              "2    City Hotel   Several weeks         1319     44.246897\n",
              "1    City Hotel  Several months            8     80.000000\n",
              "3  Resort Hotel    Several days         5275     21.751680\n",
              "5  Resort Hotel   Several weeks         2600     28.047465\n",
              "4  Resort Hotel  Several months            5     23.809524"
            ],
            "text/html": [
              "\n",
              "  <div id=\"df-c5ae8931-31d4-43fd-a16a-a2b6fd4a5ed4\">\n",
              "    <div class=\"colab-df-container\">\n",
              "      <div>\n",
              "<style scoped>\n",
              "    .dataframe tbody tr th:only-of-type {\n",
              "        vertical-align: middle;\n",
              "    }\n",
              "\n",
              "    .dataframe tbody tr th {\n",
              "        vertical-align: top;\n",
              "    }\n",
              "\n",
              "    .dataframe thead th {\n",
              "        text-align: right;\n",
              "    }\n",
              "</style>\n",
              "<table border=\"1\" class=\"dataframe\">\n",
              "  <thead>\n",
              "    <tr style=\"text-align: right;\">\n",
              "      <th></th>\n",
              "      <th>hotel</th>\n",
              "      <th>duration</th>\n",
              "      <th>is_canceled</th>\n",
              "      <th>cancel_ratio</th>\n",
              "    </tr>\n",
              "  </thead>\n",
              "  <tbody>\n",
              "    <tr>\n",
              "      <th>0</th>\n",
              "      <td>City Hotel</td>\n",
              "      <td>Several days</td>\n",
              "      <td>14513</td>\n",
              "      <td>29.360118</td>\n",
              "    </tr>\n",
              "    <tr>\n",
              "      <th>2</th>\n",
              "      <td>City Hotel</td>\n",
              "      <td>Several weeks</td>\n",
              "      <td>1319</td>\n",
              "      <td>44.246897</td>\n",
              "    </tr>\n",
              "    <tr>\n",
              "      <th>1</th>\n",
              "      <td>City Hotel</td>\n",
              "      <td>Several months</td>\n",
              "      <td>8</td>\n",
              "      <td>80.000000</td>\n",
              "    </tr>\n",
              "    <tr>\n",
              "      <th>3</th>\n",
              "      <td>Resort Hotel</td>\n",
              "      <td>Several days</td>\n",
              "      <td>5275</td>\n",
              "      <td>21.751680</td>\n",
              "    </tr>\n",
              "    <tr>\n",
              "      <th>5</th>\n",
              "      <td>Resort Hotel</td>\n",
              "      <td>Several weeks</td>\n",
              "      <td>2600</td>\n",
              "      <td>28.047465</td>\n",
              "    </tr>\n",
              "    <tr>\n",
              "      <th>4</th>\n",
              "      <td>Resort Hotel</td>\n",
              "      <td>Several months</td>\n",
              "      <td>5</td>\n",
              "      <td>23.809524</td>\n",
              "    </tr>\n",
              "  </tbody>\n",
              "</table>\n",
              "</div>\n",
              "      <button class=\"colab-df-convert\" onclick=\"convertToInteractive('df-c5ae8931-31d4-43fd-a16a-a2b6fd4a5ed4')\"\n",
              "              title=\"Convert this dataframe to an interactive table.\"\n",
              "              style=\"display:none;\">\n",
              "        \n",
              "  <svg xmlns=\"http://www.w3.org/2000/svg\" height=\"24px\"viewBox=\"0 0 24 24\"\n",
              "       width=\"24px\">\n",
              "    <path d=\"M0 0h24v24H0V0z\" fill=\"none\"/>\n",
              "    <path d=\"M18.56 5.44l.94 2.06.94-2.06 2.06-.94-2.06-.94-.94-2.06-.94 2.06-2.06.94zm-11 1L8.5 8.5l.94-2.06 2.06-.94-2.06-.94L8.5 2.5l-.94 2.06-2.06.94zm10 10l.94 2.06.94-2.06 2.06-.94-2.06-.94-.94-2.06-.94 2.06-2.06.94z\"/><path d=\"M17.41 7.96l-1.37-1.37c-.4-.4-.92-.59-1.43-.59-.52 0-1.04.2-1.43.59L10.3 9.45l-7.72 7.72c-.78.78-.78 2.05 0 2.83L4 21.41c.39.39.9.59 1.41.59.51 0 1.02-.2 1.41-.59l7.78-7.78 2.81-2.81c.8-.78.8-2.07 0-2.86zM5.41 20L4 18.59l7.72-7.72 1.47 1.35L5.41 20z\"/>\n",
              "  </svg>\n",
              "      </button>\n",
              "      \n",
              "  <style>\n",
              "    .colab-df-container {\n",
              "      display:flex;\n",
              "      flex-wrap:wrap;\n",
              "      gap: 12px;\n",
              "    }\n",
              "\n",
              "    .colab-df-convert {\n",
              "      background-color: #E8F0FE;\n",
              "      border: none;\n",
              "      border-radius: 50%;\n",
              "      cursor: pointer;\n",
              "      display: none;\n",
              "      fill: #1967D2;\n",
              "      height: 32px;\n",
              "      padding: 0 0 0 0;\n",
              "      width: 32px;\n",
              "    }\n",
              "\n",
              "    .colab-df-convert:hover {\n",
              "      background-color: #E2EBFA;\n",
              "      box-shadow: 0px 1px 2px rgba(60, 64, 67, 0.3), 0px 1px 3px 1px rgba(60, 64, 67, 0.15);\n",
              "      fill: #174EA6;\n",
              "    }\n",
              "\n",
              "    [theme=dark] .colab-df-convert {\n",
              "      background-color: #3B4455;\n",
              "      fill: #D2E3FC;\n",
              "    }\n",
              "\n",
              "    [theme=dark] .colab-df-convert:hover {\n",
              "      background-color: #434B5C;\n",
              "      box-shadow: 0px 1px 3px 1px rgba(0, 0, 0, 0.15);\n",
              "      filter: drop-shadow(0px 1px 2px rgba(0, 0, 0, 0.3));\n",
              "      fill: #FFFFFF;\n",
              "    }\n",
              "  </style>\n",
              "\n",
              "      <script>\n",
              "        const buttonEl =\n",
              "          document.querySelector('#df-c5ae8931-31d4-43fd-a16a-a2b6fd4a5ed4 button.colab-df-convert');\n",
              "        buttonEl.style.display =\n",
              "          google.colab.kernel.accessAllowed ? 'block' : 'none';\n",
              "\n",
              "        async function convertToInteractive(key) {\n",
              "          const element = document.querySelector('#df-c5ae8931-31d4-43fd-a16a-a2b6fd4a5ed4');\n",
              "          const dataTable =\n",
              "            await google.colab.kernel.invokeFunction('convertToInteractive',\n",
              "                                                     [key], {});\n",
              "          if (!dataTable) return;\n",
              "\n",
              "          const docLinkHtml = 'Like what you see? Visit the ' +\n",
              "            '<a target=\"_blank\" href=https://colab.research.google.com/notebooks/data_table.ipynb>data table notebook</a>'\n",
              "            + ' to learn more about interactive tables.';\n",
              "          element.innerHTML = '';\n",
              "          dataTable['output_type'] = 'display_data';\n",
              "          await google.colab.output.renderOutput(dataTable, element);\n",
              "          const docLink = document.createElement('div');\n",
              "          docLink.innerHTML = docLinkHtml;\n",
              "          element.appendChild(docLink);\n",
              "        }\n",
              "      </script>\n",
              "    </div>\n",
              "  </div>\n",
              "  "
            ]
          },
          "metadata": {},
          "execution_count": 207
        }
      ]
    },
    {
      "cell_type": "markdown",
      "source": [
        "## Plot"
      ],
      "metadata": {
        "id": "aqGxw3eP5Upr"
      }
    },
    {
      "cell_type": "code",
      "source": [
        "# plot rasio pembatalan pesanan terhadap durasi menginap untuk setiap tipe hotel\n",
        "plt.figure(figsize=(10,5))\n",
        "ax = sns.barplot(x='duration', y='cancel_ratio', hue='hotel', data=df2_cancel, palette='rocket')\n",
        "\n",
        "plt.xlabel('Stay Duration(s)', fontsize=12)\n",
        "plt.ylabel('Cancellation Rate(%)', fontsize=12)\n",
        "\n",
        "sns.despine()\n",
        "plt.tight_layout()\n",
        "\n",
        "# Menambahkan label pada setiap bar\n",
        "plt.bar_label(ax.containers[0], fmt='%.2f%%')\n",
        "plt.bar_label(ax.containers[1], fmt='%.2f%%')\n",
        "\n",
        "plt.title('Stay Duration on Hotel Bookings \\nCancellation Rates', weight='bold', fontsize = 20)\n",
        "plt.show()"
      ],
      "metadata": {
        "colab": {
          "base_uri": "https://localhost:8080/",
          "height": 569
        },
        "id": "Nu26mKHmdzka",
        "outputId": "e4ca4d25-ca09-4be6-bd3c-15ceed71bc66"
      },
      "execution_count": null,
      "outputs": [
        {
          "output_type": "display_data",
          "data": {
            "text/plain": [
              "<Figure size 1000x500 with 1 Axes>"
            ],
            "image/png": "[encoded data removed]"
          },
          "metadata": {}
        }
      ]
    },
    {
      "cell_type": "markdown",
      "source": [
        "## Insight"
      ],
      "metadata": {
        "id": "XXLAVDsA5XLW"
      }
    },
    {
      "cell_type": "markdown",
      "source": [
        "- Semakin lama durasi pemesanan, rasio pembatalan semakin besar untuk hotel berjenis 'City'.\n",
        "- Untuk hotel dengan jenis 'Resort', rasio pembatalannya cenderung sama, tidak tergantung lamanya durasi booking.\n",
        "- Secara keseluruhan rasio pembatalan hotel berjenis 'City' lebih besar dibanding 'Resort' hotel."
      ],
      "metadata": {
        "id": "Z6WFMmHNjsuZ"
      }
    },
    {
      "cell_type": "markdown",
      "source": [
        "# Impact Analysis of Lead Time on Hotel Bookings Cancellation Rate"
      ],
      "metadata": {
        "id": "cgiDVApM4WPO"
      }
    },
    {
      "cell_type": "markdown",
      "source": [
        "## Categorization of lead time"
      ],
      "metadata": {
        "id": "RHLKvWeLJHfv"
      }
    },
    {
      "cell_type": "code",
      "source": [
        "# duplikat data\n",
        "df3 = dfcopy.copy()"
      ],
      "metadata": {
        "id": "kQLvx_nupoRv"
      },
      "execution_count": null,
      "outputs": []
    },
    {
      "cell_type": "code",
      "source": [
        "# memeriksa detail kolom 'lead_time'\n",
        "df3['lead_time'].describe()"
      ],
      "metadata": {
        "colab": {
          "base_uri": "https://localhost:8080/"
        },
        "id": "9iIb6jWQp2eP",
        "outputId": "593c58c6-4a21-43e2-fbf0-350d7f69eb30"
      },
      "execution_count": null,
      "outputs": [
        {
          "output_type": "execute_result",
          "data": {
            "text/plain": [
              "count    85964.000000\n",
              "mean        79.324880\n",
              "std         85.504731\n",
              "min          0.000000\n",
              "25%         11.000000\n",
              "50%         49.000000\n",
              "75%        124.000000\n",
              "max        737.000000\n",
              "Name: lead_time, dtype: float64"
            ]
          },
          "metadata": {},
          "execution_count": 210
        }
      ]
    },
    {
      "cell_type": "code",
      "source": [
        "# memeriksa distribusi data\n",
        "sns.distplot(df2['lead_time'])"
      ],
      "metadata": {
        "colab": {
          "base_uri": "https://localhost:8080/",
          "height": 838
        },
        "id": "kI3T57Y-FDv9",
        "outputId": "0f7e1042-695d-46dd-dd37-ad3b1615e7c4"
      },
      "execution_count": null,
      "outputs": [
        {
          "output_type": "stream",
          "name": "stderr",
          "text": [
            "<ipython-input-211-f1adcc57dde8>:2: UserWarning: \n",
            "\n",
            "`distplot` is a deprecated function and will be removed in seaborn v0.14.0.\n",
            "\n",
            "Please adapt your code to use either `displot` (a figure-level function with\n",
            "similar flexibility) or `histplot` (an axes-level function for histograms).\n",
            "\n",
            "For a guide to updating your code to use the new functions, please see\n",
            "https://gist.github.com/mwaskom/de44147ed2974457ad6372750bbe5751\n",
            "\n",
            "  sns.distplot(df2['lead_time'])\n"
          ]
        },
        {
          "output_type": "execute_result",
          "data": {
            "text/plain": [
              "<Axes: xlabel='lead_time', ylabel='Density'>"
            ]
          },
          "metadata": {},
          "execution_count": 211
        },
        {
          "output_type": "display_data",
          "data": {
            "text/plain": [
              "<Figure size 1000x700 with 1 Axes>"
            ],
            "image/png": "[encoded data removed]"
          },
          "metadata": {}
        }
      ]
    },
    {
      "cell_type": "code",
      "source": [
        "# membuat kolom baru, mengkategorikan 'lead_time'\n",
        "df3['lead_time_categorize'] = df3['lead_time'].apply(lambda m: 'Several days' if m < 7 else ('Several weeks' if m < 30 else ('Several months' if m < 365 else  'Several years')))\n",
        "df3['lead_time_categorize']"
      ],
      "metadata": {
        "colab": {
          "base_uri": "https://localhost:8080/"
        },
        "id": "TJUOP4mtFKp9",
        "outputId": "c85fcc0b-64b5-454b-a819-d495a4d18fa0"
      },
      "execution_count": null,
      "outputs": [
        {
          "output_type": "execute_result",
          "data": {
            "text/plain": [
              "0         Several months\n",
              "1          Several years\n",
              "2          Several weeks\n",
              "3          Several weeks\n",
              "4          Several weeks\n",
              "               ...      \n",
              "119385     Several weeks\n",
              "119386    Several months\n",
              "119387    Several months\n",
              "119388    Several months\n",
              "119389    Several months\n",
              "Name: lead_time_categorize, Length: 85964, dtype: object"
            ]
          },
          "metadata": {},
          "execution_count": 212
        }
      ]
    },
    {
      "cell_type": "markdown",
      "source": [
        "## The number of canceled hotel bookings\n"
      ],
      "metadata": {
        "id": "NsGrZxV8o7e2"
      }
    },
    {
      "cell_type": "code",
      "source": [
        "# membuat agregat tabel perbandingan jumlah pemesan hotel terhadap waktu pemesanan\n",
        "df3_cancel = df3[df3['is_canceled'] == 1].groupby(['hotel','lead_time_categorize']).aggregate({'is_canceled' : 'count'}).reset_index()\n",
        "df3_keep = df3[df3['is_canceled'] == 0].groupby(['hotel','lead_time_categorize']).aggregate({'is_canceled' : 'count'}).reset_index()\n",
        "df3_cancel['cancel_ratio'] = df3_cancel['is_canceled'] / (df3_cancel['is_canceled'] + df3_keep['is_canceled']) * 100\n",
        "df3_cancel"
      ],
      "metadata": {
        "colab": {
          "base_uri": "https://localhost:8080/",
          "height": 300
        },
        "id": "6IRDsEkDpop9",
        "outputId": "066d4773-7fa1-4c0d-8200-9bb6f803e658"
      },
      "execution_count": null,
      "outputs": [
        {
          "output_type": "execute_result",
          "data": {
            "text/plain": [
              "          hotel lead_time_categorize  is_canceled  cancel_ratio\n",
              "0    City Hotel         Several days          916     10.141718\n",
              "1    City Hotel       Several months        11832     36.669043\n",
              "2    City Hotel        Several weeks         2900     26.941657\n",
              "3    City Hotel        Several years          192     53.481894\n",
              "4  Resort Hotel         Several days          454      5.776816\n",
              "5  Resort Hotel       Several months         6190     31.843202\n",
              "6  Resort Hotel        Several weeks         1199     19.775689\n",
              "7  Resort Hotel        Several years           37     20.441989"
            ],
            "text/html": [
              "\n",
              "  <div id=\"df-8bd47c49-5b4d-48ef-a249-439c2377f991\">\n",
              "    <div class=\"colab-df-container\">\n",
              "      <div>\n",
              "<style scoped>\n",
              "    .dataframe tbody tr th:only-of-type {\n",
              "        vertical-align: middle;\n",
              "    }\n",
              "\n",
              "    .dataframe tbody tr th {\n",
              "        vertical-align: top;\n",
              "    }\n",
              "\n",
              "    .dataframe thead th {\n",
              "        text-align: right;\n",
              "    }\n",
              "</style>\n",
              "<table border=\"1\" class=\"dataframe\">\n",
              "  <thead>\n",
              "    <tr style=\"text-align: right;\">\n",
              "      <th></th>\n",
              "      <th>hotel</th>\n",
              "      <th>lead_time_categorize</th>\n",
              "      <th>is_canceled</th>\n",
              "      <th>cancel_ratio</th>\n",
              "    </tr>\n",
              "  </thead>\n",
              "  <tbody>\n",
              "    <tr>\n",
              "      <th>0</th>\n",
              "      <td>City Hotel</td>\n",
              "      <td>Several days</td>\n",
              "      <td>916</td>\n",
              "      <td>10.141718</td>\n",
              "    </tr>\n",
              "    <tr>\n",
              "      <th>1</th>\n",
              "      <td>City Hotel</td>\n",
              "      <td>Several months</td>\n",
              "      <td>11832</td>\n",
              "      <td>36.669043</td>\n",
              "    </tr>\n",
              "    <tr>\n",
              "      <th>2</th>\n",
              "      <td>City Hotel</td>\n",
              "      <td>Several weeks</td>\n",
              "      <td>2900</td>\n",
              "      <td>26.941657</td>\n",
              "    </tr>\n",
              "    <tr>\n",
              "      <th>3</th>\n",
              "      <td>City Hotel</td>\n",
              "      <td>Several years</td>\n",
              "      <td>192</td>\n",
              "      <td>53.481894</td>\n",
              "    </tr>\n",
              "    <tr>\n",
              "      <th>4</th>\n",
              "      <td>Resort Hotel</td>\n",
              "      <td>Several days</td>\n",
              "      <td>454</td>\n",
              "      <td>5.776816</td>\n",
              "    </tr>\n",
              "    <tr>\n",
              "      <th>5</th>\n",
              "      <td>Resort Hotel</td>\n",
              "      <td>Several months</td>\n",
              "      <td>6190</td>\n",
              "      <td>31.843202</td>\n",
              "    </tr>\n",
              "    <tr>\n",
              "      <th>6</th>\n",
              "      <td>Resort Hotel</td>\n",
              "      <td>Several weeks</td>\n",
              "      <td>1199</td>\n",
              "      <td>19.775689</td>\n",
              "    </tr>\n",
              "    <tr>\n",
              "      <th>7</th>\n",
              "      <td>Resort Hotel</td>\n",
              "      <td>Several years</td>\n",
              "      <td>37</td>\n",
              "      <td>20.441989</td>\n",
              "    </tr>\n",
              "  </tbody>\n",
              "</table>\n",
              "</div>\n",
              "      <button class=\"colab-df-convert\" onclick=\"convertToInteractive('df-8bd47c49-5b4d-48ef-a249-439c2377f991')\"\n",
              "              title=\"Convert this dataframe to an interactive table.\"\n",
              "              style=\"display:none;\">\n",
              "        \n",
              "  <svg xmlns=\"http://www.w3.org/2000/svg\" height=\"24px\"viewBox=\"0 0 24 24\"\n",
              "       width=\"24px\">\n",
              "    <path d=\"M0 0h24v24H0V0z\" fill=\"none\"/>\n",
              "    <path d=\"M18.56 5.44l.94 2.06.94-2.06 2.06-.94-2.06-.94-.94-2.06-.94 2.06-2.06.94zm-11 1L8.5 8.5l.94-2.06 2.06-.94-2.06-.94L8.5 2.5l-.94 2.06-2.06.94zm10 10l.94 2.06.94-2.06 2.06-.94-2.06-.94-.94-2.06-.94 2.06-2.06.94z\"/><path d=\"M17.41 7.96l-1.37-1.37c-.4-.4-.92-.59-1.43-.59-.52 0-1.04.2-1.43.59L10.3 9.45l-7.72 7.72c-.78.78-.78 2.05 0 2.83L4 21.41c.39.39.9.59 1.41.59.51 0 1.02-.2 1.41-.59l7.78-7.78 2.81-2.81c.8-.78.8-2.07 0-2.86zM5.41 20L4 18.59l7.72-7.72 1.47 1.35L5.41 20z\"/>\n",
              "  </svg>\n",
              "      </button>\n",
              "      \n",
              "  <style>\n",
              "    .colab-df-container {\n",
              "      display:flex;\n",
              "      flex-wrap:wrap;\n",
              "      gap: 12px;\n",
              "    }\n",
              "\n",
              "    .colab-df-convert {\n",
              "      background-color: #E8F0FE;\n",
              "      border: none;\n",
              "      border-radius: 50%;\n",
              "      cursor: pointer;\n",
              "      display: none;\n",
              "      fill: #1967D2;\n",
              "      height: 32px;\n",
              "      padding: 0 0 0 0;\n",
              "      width: 32px;\n",
              "    }\n",
              "\n",
              "    .colab-df-convert:hover {\n",
              "      background-color: #E2EBFA;\n",
              "      box-shadow: 0px 1px 2px rgba(60, 64, 67, 0.3), 0px 1px 3px 1px rgba(60, 64, 67, 0.15);\n",
              "      fill: #174EA6;\n",
              "    }\n",
              "\n",
              "    [theme=dark] .colab-df-convert {\n",
              "      background-color: #3B4455;\n",
              "      fill: #D2E3FC;\n",
              "    }\n",
              "\n",
              "    [theme=dark] .colab-df-convert:hover {\n",
              "      background-color: #434B5C;\n",
              "      box-shadow: 0px 1px 3px 1px rgba(0, 0, 0, 0.15);\n",
              "      filter: drop-shadow(0px 1px 2px rgba(0, 0, 0, 0.3));\n",
              "      fill: #FFFFFF;\n",
              "    }\n",
              "  </style>\n",
              "\n",
              "      <script>\n",
              "        const buttonEl =\n",
              "          document.querySelector('#df-8bd47c49-5b4d-48ef-a249-439c2377f991 button.colab-df-convert');\n",
              "        buttonEl.style.display =\n",
              "          google.colab.kernel.accessAllowed ? 'block' : 'none';\n",
              "\n",
              "        async function convertToInteractive(key) {\n",
              "          const element = document.querySelector('#df-8bd47c49-5b4d-48ef-a249-439c2377f991');\n",
              "          const dataTable =\n",
              "            await google.colab.kernel.invokeFunction('convertToInteractive',\n",
              "                                                     [key], {});\n",
              "          if (!dataTable) return;\n",
              "\n",
              "          const docLinkHtml = 'Like what you see? Visit the ' +\n",
              "            '<a target=\"_blank\" href=https://colab.research.google.com/notebooks/data_table.ipynb>data table notebook</a>'\n",
              "            + ' to learn more about interactive tables.';\n",
              "          element.innerHTML = '';\n",
              "          dataTable['output_type'] = 'display_data';\n",
              "          await google.colab.output.renderOutput(dataTable, element);\n",
              "          const docLink = document.createElement('div');\n",
              "          docLink.innerHTML = docLinkHtml;\n",
              "          element.appendChild(docLink);\n",
              "        }\n",
              "      </script>\n",
              "    </div>\n",
              "  </div>\n",
              "  "
            ]
          },
          "metadata": {},
          "execution_count": 213
        }
      ]
    },
    {
      "cell_type": "code",
      "source": [
        "# mengurutkan tabel berdasarkan kategori lead time\n",
        "df3_cancel['order_lead_time_categorize'] = df3_cancel['lead_time_categorize'].apply(lambda n: 1 if n == 'Several days' else (2 if n == 'Several weeks' else (3 if n == 'Several months' else 4)))\n",
        "df3_cancel = df3_cancel.sort_values(['hotel', 'order_lead_time_categorize'])\n",
        "df3_cancel = df3_cancel[['hotel', 'lead_time_categorize', 'is_canceled', 'cancel_ratio']]\n",
        "df3_cancel"
      ],
      "metadata": {
        "colab": {
          "base_uri": "https://localhost:8080/",
          "height": 300
        },
        "id": "bsBAUSE_G7KH",
        "outputId": "e4dfa659-60f2-4bf5-a593-1ef27c0b2db2"
      },
      "execution_count": null,
      "outputs": [
        {
          "output_type": "execute_result",
          "data": {
            "text/plain": [
              "          hotel lead_time_categorize  is_canceled  cancel_ratio\n",
              "0    City Hotel         Several days          916     10.141718\n",
              "2    City Hotel        Several weeks         2900     26.941657\n",
              "1    City Hotel       Several months        11832     36.669043\n",
              "3    City Hotel        Several years          192     53.481894\n",
              "4  Resort Hotel         Several days          454      5.776816\n",
              "6  Resort Hotel        Several weeks         1199     19.775689\n",
              "5  Resort Hotel       Several months         6190     31.843202\n",
              "7  Resort Hotel        Several years           37     20.441989"
            ],
            "text/html": [
              "\n",
              "  <div id=\"df-65dba8be-9a7f-4b8d-abae-1c5ab29774d0\">\n",
              "    <div class=\"colab-df-container\">\n",
              "      <div>\n",
              "<style scoped>\n",
              "    .dataframe tbody tr th:only-of-type {\n",
              "        vertical-align: middle;\n",
              "    }\n",
              "\n",
              "    .dataframe tbody tr th {\n",
              "        vertical-align: top;\n",
              "    }\n",
              "\n",
              "    .dataframe thead th {\n",
              "        text-align: right;\n",
              "    }\n",
              "</style>\n",
              "<table border=\"1\" class=\"dataframe\">\n",
              "  <thead>\n",
              "    <tr style=\"text-align: right;\">\n",
              "      <th></th>\n",
              "      <th>hotel</th>\n",
              "      <th>lead_time_categorize</th>\n",
              "      <th>is_canceled</th>\n",
              "      <th>cancel_ratio</th>\n",
              "    </tr>\n",
              "  </thead>\n",
              "  <tbody>\n",
              "    <tr>\n",
              "      <th>0</th>\n",
              "      <td>City Hotel</td>\n",
              "      <td>Several days</td>\n",
              "      <td>916</td>\n",
              "      <td>10.141718</td>\n",
              "    </tr>\n",
              "    <tr>\n",
              "      <th>2</th>\n",
              "      <td>City Hotel</td>\n",
              "      <td>Several weeks</td>\n",
              "      <td>2900</td>\n",
              "      <td>26.941657</td>\n",
              "    </tr>\n",
              "    <tr>\n",
              "      <th>1</th>\n",
              "      <td>City Hotel</td>\n",
              "      <td>Several months</td>\n",
              "      <td>11832</td>\n",
              "      <td>36.669043</td>\n",
              "    </tr>\n",
              "    <tr>\n",
              "      <th>3</th>\n",
              "      <td>City Hotel</td>\n",
              "      <td>Several years</td>\n",
              "      <td>192</td>\n",
              "      <td>53.481894</td>\n",
              "    </tr>\n",
              "    <tr>\n",
              "      <th>4</th>\n",
              "      <td>Resort Hotel</td>\n",
              "      <td>Several days</td>\n",
              "      <td>454</td>\n",
              "      <td>5.776816</td>\n",
              "    </tr>\n",
              "    <tr>\n",
              "      <th>6</th>\n",
              "      <td>Resort Hotel</td>\n",
              "      <td>Several weeks</td>\n",
              "      <td>1199</td>\n",
              "      <td>19.775689</td>\n",
              "    </tr>\n",
              "    <tr>\n",
              "      <th>5</th>\n",
              "      <td>Resort Hotel</td>\n",
              "      <td>Several months</td>\n",
              "      <td>6190</td>\n",
              "      <td>31.843202</td>\n",
              "    </tr>\n",
              "    <tr>\n",
              "      <th>7</th>\n",
              "      <td>Resort Hotel</td>\n",
              "      <td>Several years</td>\n",
              "      <td>37</td>\n",
              "      <td>20.441989</td>\n",
              "    </tr>\n",
              "  </tbody>\n",
              "</table>\n",
              "</div>\n",
              "      <button class=\"colab-df-convert\" onclick=\"convertToInteractive('df-65dba8be-9a7f-4b8d-abae-1c5ab29774d0')\"\n",
              "              title=\"Convert this dataframe to an interactive table.\"\n",
              "              style=\"display:none;\">\n",
              "        \n",
              "  <svg xmlns=\"http://www.w3.org/2000/svg\" height=\"24px\"viewBox=\"0 0 24 24\"\n",
              "       width=\"24px\">\n",
              "    <path d=\"M0 0h24v24H0V0z\" fill=\"none\"/>\n",
              "    <path d=\"M18.56 5.44l.94 2.06.94-2.06 2.06-.94-2.06-.94-.94-2.06-.94 2.06-2.06.94zm-11 1L8.5 8.5l.94-2.06 2.06-.94-2.06-.94L8.5 2.5l-.94 2.06-2.06.94zm10 10l.94 2.06.94-2.06 2.06-.94-2.06-.94-.94-2.06-.94 2.06-2.06.94z\"/><path d=\"M17.41 7.96l-1.37-1.37c-.4-.4-.92-.59-1.43-.59-.52 0-1.04.2-1.43.59L10.3 9.45l-7.72 7.72c-.78.78-.78 2.05 0 2.83L4 21.41c.39.39.9.59 1.41.59.51 0 1.02-.2 1.41-.59l7.78-7.78 2.81-2.81c.8-.78.8-2.07 0-2.86zM5.41 20L4 18.59l7.72-7.72 1.47 1.35L5.41 20z\"/>\n",
              "  </svg>\n",
              "      </button>\n",
              "      \n",
              "  <style>\n",
              "    .colab-df-container {\n",
              "      display:flex;\n",
              "      flex-wrap:wrap;\n",
              "      gap: 12px;\n",
              "    }\n",
              "\n",
              "    .colab-df-convert {\n",
              "      background-color: #E8F0FE;\n",
              "      border: none;\n",
              "      border-radius: 50%;\n",
              "      cursor: pointer;\n",
              "      display: none;\n",
              "      fill: #1967D2;\n",
              "      height: 32px;\n",
              "      padding: 0 0 0 0;\n",
              "      width: 32px;\n",
              "    }\n",
              "\n",
              "    .colab-df-convert:hover {\n",
              "      background-color: #E2EBFA;\n",
              "      box-shadow: 0px 1px 2px rgba(60, 64, 67, 0.3), 0px 1px 3px 1px rgba(60, 64, 67, 0.15);\n",
              "      fill: #174EA6;\n",
              "    }\n",
              "\n",
              "    [theme=dark] .colab-df-convert {\n",
              "      background-color: #3B4455;\n",
              "      fill: #D2E3FC;\n",
              "    }\n",
              "\n",
              "    [theme=dark] .colab-df-convert:hover {\n",
              "      background-color: #434B5C;\n",
              "      box-shadow: 0px 1px 3px 1px rgba(0, 0, 0, 0.15);\n",
              "      filter: drop-shadow(0px 1px 2px rgba(0, 0, 0, 0.3));\n",
              "      fill: #FFFFFF;\n",
              "    }\n",
              "  </style>\n",
              "\n",
              "      <script>\n",
              "        const buttonEl =\n",
              "          document.querySelector('#df-65dba8be-9a7f-4b8d-abae-1c5ab29774d0 button.colab-df-convert');\n",
              "        buttonEl.style.display =\n",
              "          google.colab.kernel.accessAllowed ? 'block' : 'none';\n",
              "\n",
              "        async function convertToInteractive(key) {\n",
              "          const element = document.querySelector('#df-65dba8be-9a7f-4b8d-abae-1c5ab29774d0');\n",
              "          const dataTable =\n",
              "            await google.colab.kernel.invokeFunction('convertToInteractive',\n",
              "                                                     [key], {});\n",
              "          if (!dataTable) return;\n",
              "\n",
              "          const docLinkHtml = 'Like what you see? Visit the ' +\n",
              "            '<a target=\"_blank\" href=https://colab.research.google.com/notebooks/data_table.ipynb>data table notebook</a>'\n",
              "            + ' to learn more about interactive tables.';\n",
              "          element.innerHTML = '';\n",
              "          dataTable['output_type'] = 'display_data';\n",
              "          await google.colab.output.renderOutput(dataTable, element);\n",
              "          const docLink = document.createElement('div');\n",
              "          docLink.innerHTML = docLinkHtml;\n",
              "          element.appendChild(docLink);\n",
              "        }\n",
              "      </script>\n",
              "    </div>\n",
              "  </div>\n",
              "  "
            ]
          },
          "metadata": {},
          "execution_count": 214
        }
      ]
    },
    {
      "cell_type": "markdown",
      "source": [
        "## Plot\n"
      ],
      "metadata": {
        "id": "U56C7Z5Uo_ss"
      }
    },
    {
      "cell_type": "code",
      "source": [
        "# membuat plot rasio pembatalan pesanan terhadap lead time\n",
        "plt.figure(figsize=(10,5))\n",
        "ax = sns.barplot(x='lead_time_categorize', y='cancel_ratio', hue='hotel', data=df3_cancel, palette='YlOrBr')\n",
        "\n",
        "# mendefinisikan sumbu x dan y\n",
        "plt.xlabel('Lead Time(s)', fontsize=11)\n",
        "plt.ylabel('Cancellation Rate(%)', fontsize=11)\n",
        "\n",
        "sns.despine()\n",
        "plt.tight_layout()\n",
        "\n",
        "# Menambahkan label pada setiap bar\n",
        "plt.bar_label(ax.containers[0], fmt='%.2f%%')\n",
        "plt.bar_label(ax.containers[1], fmt='%.2f%%')\n",
        "\n",
        "plt.title('Stay Lead Time on Hotel Bookings \\nCancellation Rates', weight='bold', fontsize = 20)\n",
        "plt.show()"
      ],
      "metadata": {
        "colab": {
          "base_uri": "https://localhost:8080/",
          "height": 569
        },
        "id": "z39lR6L9ppDu",
        "outputId": "2c365083-9868-4b7d-8c80-dc9e1a23768d"
      },
      "execution_count": null,
      "outputs": [
        {
          "output_type": "display_data",
          "data": {
            "text/plain": [
              "<Figure size 1000x500 with 1 Axes>"
            ],
            "image/png": "[encoded data removed]"
          },
          "metadata": {}
        }
      ]
    },
    {
      "cell_type": "markdown",
      "source": [
        "## Insight\n"
      ],
      "metadata": {
        "id": "KBpPD9y8pBme"
      }
    },
    {
      "cell_type": "markdown",
      "source": [
        "- Semakin lama waktu pemesanan, kemungkinan pembatalan pesanan akan semakin besar.\n",
        "- Jenis hotel 'Resort' memiliki rasio pembatalan pesanan lebih kecil dibanding 'City' hotel.\n",
        "- 'Resort hotel' memiliki resio pembatalan tertinggi dalam interval waktu bulanan, namun untuk waktu yang lebih lama kecenderungan pembatalan pesanan menurun."
      ],
      "metadata": {
        "id": "oLsTMIO0JzwA"
      }
    }
  ]
}